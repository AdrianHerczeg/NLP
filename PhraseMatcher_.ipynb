{
  "nbformat": 4,
  "nbformat_minor": 0,
  "metadata": {
    "colab": {
      "name": "PhraseMatcher .ipynb",
      "provenance": [],
      "collapsed_sections": [],
      "toc_visible": true
    },
    "kernelspec": {
      "name": "python3",
      "display_name": "Python 3"
    }
  },
  "cells": [
    {
      "cell_type": "markdown",
      "metadata": {
        "id": "wn6kBEzUq2En",
        "colab_type": "text"
      },
      "source": [
        "#[A rule-based aproach for information extraction from resumes](https://towardsdatascience.com/do-the-keywords-in-your-resume-aptly-represent-what-type-of-data-scientist-you-are-59134105ba0d)"
      ]
    },
    {
      "cell_type": "markdown",
      "metadata": {
        "id": "8_e41-CWrBNj",
        "colab_type": "text"
      },
      "source": [
        "\n",
        "\n",
        "**Abstract** - With the fast evolution of artificial intelligence in domanins\n",
        "such as computer vision, natural language procesing(NLP), robotics etc., it was only a matter of time until it would be integrated in day to day tasks in different places such as, object recognition, chat bots, information extraction from text documents such as resumes and many more. In this *notebook* we present a rule-based aproach for information extraction from CV, extracting a candidates names and skills based on a predetermined set of domanins and their representing elements.\n",
        "\n",
        ">**Ketwords**: rule-based, information extraction, dictionary, PhraseMatcher\n",
        "\n",
        "># 1.Introduction\n",
        ">>The resume is one of the most important documents that a person can have. It represents a description of their entire life, from their personal information to education, work experience and other particular details. Nowdays big companies recive hundreds of resumes witch need to be analized by one or more dedicated persons from a dedicated department and only a small portion of these are selected. The process is very resource consuming, not only from a time perspective but from a financial perspective, the person spends a lot of time analizing the resumes, time that can be invested somewhere else. \n",
        "\n",
        ">>The process of automating the candidates selection based on their resumes has been one of the most difficult tasks, given the large amount of information and the diversity that needs to be processed. For a person, the process of analyzing a resume is ver simple, howerver for a machine it is an extremly complicated task, but that may change.The resumes come in all forms and formats, the lack of a standard format making the information extraction process that much harder. \n",
        "\n",
        ">>With the evolution of natural language processing, a handfull of powerfull tools, alghoritms and discoveries such as statistical models like BERT, spacy, nltk etc. but also the evolution of graph databases and the research for knowledge graphs have been proven very promissing for the task. In this *notebook* we will present a rule-based aproach for extracting information from resumes, the extracted information refering to the candidates names and skills .\n",
        "\n",
        ">>The rest of the *notebook* is structured as following: Section 2 presents the related work, Section 3 presents the aproach and the implementation of the proposed aproach and  Section 4 presents the conclusions and future work.    \n",
        "\n",
        "\n",
        "    \n"
      ]
    },
    {
      "cell_type": "markdown",
      "metadata": {
        "id": "D-WuhpAVIwcO",
        "colab_type": "text"
      },
      "source": [
        "\n",
        "># 2.Related works\n",
        "\n",
        ">>The task of information extaction from resumes has been aproached by many researchers. The number and variety of proposed solutions are almost imposible to count, going from rule-based aproaching to diffrent machine learning alghoritms and even semantic and knowledge based sollutions and hybrid combinations between these. In almost any of the above mentioned aproaches, the resume has been treated as a seni-structured document, by doing so, the main blocks of the document could be aproximated without using any clustering alghoritm, giving a decent start. In the rule-based sector Jinesh D[1] presented an aproach for extracting diffrent types of information from resumes using a content-based and latout based aproach. The presented solution used the layout of the resumes to determine the main blocks, then extracting the information from diffrent  blocks using a dictionary of keywords(ex: extracting the university using a list of all universities in USA). This aproach managed get 97% accuracry for extracting the personal based on a heuristic rule-based aproach  , but performed poorly on the education segment using a dictionary of words achiving an average 54% precision, as the author expained the reason being the lack of keywords in the used dictionary. \n",
        "\n",
        ">>In the field of machine learning and statistical models, a variety of different models and methods were explored, some of them achiving state of the art performance. Jacob D.[2] presented BERT, a bidirectional model capable of achiving state of the art in NLP tasks such as sentence-pair classification. The model has been succesfully aplied in the doamin of information extraction from documents by Vedant B.[3]. The proposed solution of the authors was converting the resume from PDF to HTML and then to LinkedIn format. After the conversion, they use the sentence-pair classifier to clasify if a specific candidate was suitable for the job by comparing the job description with the previous job descriptions provided my the candidate. The model achived a strong 73% accuracy but it requiered that a previous job description was provided by the candidate.\n",
        "\n",
        ">>Other aproaches on in the machine learning field include the usage of support vector machine(SVM) and conditional random fields(CRF), witch achived very good performance in a variety of diffrent text analysis and information extraction tasks. Jlaze C. [4] proposed a content-based and layout-based aproach based on SVM and CRF. The proposed solution used SVM to clasify the text in large blocks such as: Persoanl block and Educational blockm then a CRF model was used to determine the coresponding label of a text sequense. The SVM achived a 70% accuracy in classifying the text while the CRF achived an average 72% accuracy. They also used rule-based features for fine-tuning the model to improve accuracy in some areas.\n",
        "\n",
        ">>Huai H [5] used SVM and the  for extracting metadata,  with 15 diffrent labels, the obtained accuracy was 92.9%. The aproached sollution was a rule-based,context-dependent wold clustering method. \n",
        "\n",
        ">>In the semantic/knowledge sector, the aproaches are much more diffrent, trying to find the meaning of every word, and asociating a known concept to it. \n",
        "D. Celik [6] presented an onlology based system witch uses as description languages for the semantic information OWL, RDFS, and SWRL. Their aproach used 7 knowledge bases with 7 different ontologies to help the system understand the meaning of words and associate a concept from one of the knowledge bases to every word from the resume. They also proposed a semantic matching step(SMS) for identifying synonims in the text. The aproach managed to get good results but it requiered a large amount of data to be functional(6 out of 7 ontologies need to be known and structured before).\n"
      ]
    },
    {
      "cell_type": "markdown",
      "metadata": {
        "id": "OV9PYdLiIw9w",
        "colab_type": "text"
      },
      "source": [
        "># 3.The proposed solution\n",
        ">>Even if the resume can be considered a semi-structured document, the vast amount of information and the way that the information is delivered in the resume makes almost no diffrence if we treat it as a semi-structured document or a completly unstructured document, given what is proposed in this *notebook*. Given the fact that the main focus of this project is to extract the skills, the only positive efect that the segmentation step of the resume would be a small increase in processing speed, almost unnoticeable since the amount of data is relatively small. Therefore the proposed aproach uses a PhraseMathcer to match the patterns in the resume with the given keywords to find similarity between them. \n",
        "Before we detail the aproach, some explanation and reasons behind the chosen technologies are necesary, therefore we will list them below and explain why they were chosen:\n",
        "1. pandas: on of the top three most powerfull libraries for data science it helps in manipulating the data in very easy ways for both visualizing and changing it\n",
        "2. spacy: the aproach uses a PhraseMatcher, this feature is very eficiently implemented in spacy, \n",
        "3. matplotlib: the best instrument to create plots and visualize data in python.\n",
        "\n",
        ">>Every used library can be visualized with the atached description in Figure 1.\n",
        "\n"
      ]
    },
    {
      "cell_type": "code",
      "metadata": {
        "id": "Q4j2g8TNq6e7",
        "colab_type": "code",
        "colab": {}
      },
      "source": [
        "#Figure 1: every used library in the project\n",
        "\n",
        "import pandas as pd                     #for easy visualizing of the data\n",
        "import matplotlib.pyplot as plt         #for plotting information \n",
        "import spacy                            #the library that implements the PhraseMatcher\n",
        "import json                             #every row in the dataset file is parsed as a json object \n",
        "import numpy as np                      #we will use it later to eliminate the empty rows from the dataframe\n",
        "from spacy.matcher import Matcher       #necesary for comparison of diffrent aproaches\n",
        "from spacy.matcher import PhraseMatcher #the PhraseMatcher"
      ],
      "execution_count": 0,
      "outputs": []
    },
    {
      "cell_type": "markdown",
      "metadata": {
        "id": "Q--y47ydIsUi",
        "colab_type": "text"
      },
      "source": [
        ">>## 3.1 The dataset\n",
        "The dataset is composed from 220 resumes in text format stored in the json file \n",
        "\"Entity Recognition in Resumes.json\". Every row of the file has the following structure:  \n",
        "{\"content\" : resume text}\n",
        "\n"
      ]
    },
    {
      "cell_type": "markdown",
      "metadata": {
        "id": "0qL_4xmnJcyU",
        "colab_type": "text"
      },
      "source": [
        ">>## 3.2 The proposed aproach\n",
        "\n",
        "The aproach is as follows: first we read the skills and domanins list from a CSV file called \"abilitati.csv\", the information is directly read into a dataframe object. The data is presented in Figure 2.  "
      ]
    },
    {
      "cell_type": "code",
      "metadata": {
        "id": "wOIibI8bO789",
        "colab_type": "code",
        "outputId": "b54aec4f-55d2-48ce-83e5-435e79c59365",
        "colab": {
          "base_uri": "https://localhost:8080/",
          "height": 669
        }
      },
      "source": [
        "#Figure 2. The content of the file \"abilitati.csv\"\n",
        "categories = pd.read_csv(\"abilitati.csv\")\n",
        "categories"
      ],
      "execution_count": 2,
      "outputs": [
        {
          "output_type": "execute_result",
          "data": {
            "text/html": [
              "<div>\n",
              "<style scoped>\n",
              "    .dataframe tbody tr th:only-of-type {\n",
              "        vertical-align: middle;\n",
              "    }\n",
              "\n",
              "    .dataframe tbody tr th {\n",
              "        vertical-align: top;\n",
              "    }\n",
              "\n",
              "    .dataframe thead th {\n",
              "        text-align: right;\n",
              "    }\n",
              "</style>\n",
              "<table border=\"1\" class=\"dataframe\">\n",
              "  <thead>\n",
              "    <tr style=\"text-align: right;\">\n",
              "      <th></th>\n",
              "      <th>Statistics</th>\n",
              "      <th>Machine Learning</th>\n",
              "      <th>Deep Learning</th>\n",
              "      <th>R Language</th>\n",
              "      <th>Python Language</th>\n",
              "      <th>NLP</th>\n",
              "      <th>Data Engineering</th>\n",
              "    </tr>\n",
              "  </thead>\n",
              "  <tbody>\n",
              "    <tr>\n",
              "      <th>0</th>\n",
              "      <td>statistical models</td>\n",
              "      <td>linear regression</td>\n",
              "      <td>neural network</td>\n",
              "      <td>ggplot</td>\n",
              "      <td>python</td>\n",
              "      <td>nlp</td>\n",
              "      <td>aws</td>\n",
              "    </tr>\n",
              "    <tr>\n",
              "      <th>1</th>\n",
              "      <td>statistical modeling</td>\n",
              "      <td>logistic regression</td>\n",
              "      <td>keras</td>\n",
              "      <td>shiny</td>\n",
              "      <td>flask</td>\n",
              "      <td>natural language processing</td>\n",
              "      <td>ec2</td>\n",
              "    </tr>\n",
              "    <tr>\n",
              "      <th>2</th>\n",
              "      <td>probability</td>\n",
              "      <td>K means</td>\n",
              "      <td>theano</td>\n",
              "      <td>cran</td>\n",
              "      <td>django</td>\n",
              "      <td>topic modeling</td>\n",
              "      <td>amazon redshift</td>\n",
              "    </tr>\n",
              "    <tr>\n",
              "      <th>3</th>\n",
              "      <td>normal distribution</td>\n",
              "      <td>random forest</td>\n",
              "      <td>face detection</td>\n",
              "      <td>dplyr</td>\n",
              "      <td>pandas</td>\n",
              "      <td>lda</td>\n",
              "      <td>s3</td>\n",
              "    </tr>\n",
              "    <tr>\n",
              "      <th>4</th>\n",
              "      <td>poisson distribution</td>\n",
              "      <td>xgboost</td>\n",
              "      <td>neural networls</td>\n",
              "      <td>tidyr</td>\n",
              "      <td>numpy</td>\n",
              "      <td>named entity recognition</td>\n",
              "      <td>docker</td>\n",
              "    </tr>\n",
              "    <tr>\n",
              "      <th>5</th>\n",
              "      <td>survival models</td>\n",
              "      <td>svm</td>\n",
              "      <td>convolutional neural network(cnn)</td>\n",
              "      <td>lubricate</td>\n",
              "      <td>scikitlearn</td>\n",
              "      <td>pos tagging</td>\n",
              "      <td>kubernets</td>\n",
              "    </tr>\n",
              "    <tr>\n",
              "      <th>6</th>\n",
              "      <td>hypothesis testing</td>\n",
              "      <td>naive bayes</td>\n",
              "      <td>recurent neural network(RNN)</td>\n",
              "      <td>knitr</td>\n",
              "      <td>sklearn</td>\n",
              "      <td>word2vec</td>\n",
              "      <td>scala</td>\n",
              "    </tr>\n",
              "    <tr>\n",
              "      <th>7</th>\n",
              "      <td>bayesian inference</td>\n",
              "      <td>pca</td>\n",
              "      <td>object detection</td>\n",
              "      <td>NaN</td>\n",
              "      <td>matplotlib</td>\n",
              "      <td>word embedding</td>\n",
              "      <td>teradata</td>\n",
              "    </tr>\n",
              "    <tr>\n",
              "      <th>8</th>\n",
              "      <td>factor analysis</td>\n",
              "      <td>decision tree</td>\n",
              "      <td>yolo</td>\n",
              "      <td>NaN</td>\n",
              "      <td>scipy</td>\n",
              "      <td>lsi</td>\n",
              "      <td>google big query</td>\n",
              "    </tr>\n",
              "    <tr>\n",
              "      <th>9</th>\n",
              "      <td>forecasting</td>\n",
              "      <td>svd</td>\n",
              "      <td>gpu</td>\n",
              "      <td>NaN</td>\n",
              "      <td>bokeh</td>\n",
              "      <td>spacy</td>\n",
              "      <td>aws lambda</td>\n",
              "    </tr>\n",
              "    <tr>\n",
              "      <th>10</th>\n",
              "      <td>markov chain</td>\n",
              "      <td>ensemble models</td>\n",
              "      <td>cuda</td>\n",
              "      <td>NaN</td>\n",
              "      <td>statsmodel</td>\n",
              "      <td>genism</td>\n",
              "      <td>aws emr</td>\n",
              "    </tr>\n",
              "    <tr>\n",
              "      <th>11</th>\n",
              "      <td>monte cario</td>\n",
              "      <td>boltzman machine</td>\n",
              "      <td>tensorflow</td>\n",
              "      <td>NaN</td>\n",
              "      <td>NaN</td>\n",
              "      <td>nltk</td>\n",
              "      <td>hive</td>\n",
              "    </tr>\n",
              "    <tr>\n",
              "      <th>12</th>\n",
              "      <td>NaN</td>\n",
              "      <td>NaN</td>\n",
              "      <td>lstm</td>\n",
              "      <td>NaN</td>\n",
              "      <td>NaN</td>\n",
              "      <td>nmf</td>\n",
              "      <td>hadoop</td>\n",
              "    </tr>\n",
              "    <tr>\n",
              "      <th>13</th>\n",
              "      <td>NaN</td>\n",
              "      <td>NaN</td>\n",
              "      <td>gan</td>\n",
              "      <td>NaN</td>\n",
              "      <td>NaN</td>\n",
              "      <td>doc2vec</td>\n",
              "      <td>sql</td>\n",
              "    </tr>\n",
              "    <tr>\n",
              "      <th>14</th>\n",
              "      <td>NaN</td>\n",
              "      <td>NaN</td>\n",
              "      <td>opencv</td>\n",
              "      <td>NaN</td>\n",
              "      <td>NaN</td>\n",
              "      <td>cbow</td>\n",
              "      <td>NaN</td>\n",
              "    </tr>\n",
              "    <tr>\n",
              "      <th>15</th>\n",
              "      <td>NaN</td>\n",
              "      <td>NaN</td>\n",
              "      <td>NaN</td>\n",
              "      <td>NaN</td>\n",
              "      <td>NaN</td>\n",
              "      <td>bag of words</td>\n",
              "      <td>NaN</td>\n",
              "    </tr>\n",
              "    <tr>\n",
              "      <th>16</th>\n",
              "      <td>NaN</td>\n",
              "      <td>NaN</td>\n",
              "      <td>NaN</td>\n",
              "      <td>NaN</td>\n",
              "      <td>NaN</td>\n",
              "      <td>skip gram</td>\n",
              "      <td>NaN</td>\n",
              "    </tr>\n",
              "    <tr>\n",
              "      <th>17</th>\n",
              "      <td>NaN</td>\n",
              "      <td>NaN</td>\n",
              "      <td>NaN</td>\n",
              "      <td>NaN</td>\n",
              "      <td>NaN</td>\n",
              "      <td>bert</td>\n",
              "      <td>NaN</td>\n",
              "    </tr>\n",
              "    <tr>\n",
              "      <th>18</th>\n",
              "      <td>NaN</td>\n",
              "      <td>NaN</td>\n",
              "      <td>NaN</td>\n",
              "      <td>NaN</td>\n",
              "      <td>NaN</td>\n",
              "      <td>sentiment analysis</td>\n",
              "      <td>NaN</td>\n",
              "    </tr>\n",
              "    <tr>\n",
              "      <th>19</th>\n",
              "      <td>NaN</td>\n",
              "      <td>NaN</td>\n",
              "      <td>NaN</td>\n",
              "      <td>NaN</td>\n",
              "      <td>NaN</td>\n",
              "      <td>chat bot</td>\n",
              "      <td>NaN</td>\n",
              "    </tr>\n",
              "  </tbody>\n",
              "</table>\n",
              "</div>"
            ],
            "text/plain": [
              "              Statistics  ...  Data Engineering\n",
              "0     statistical models  ...               aws\n",
              "1   statistical modeling  ...               ec2\n",
              "2            probability  ...   amazon redshift\n",
              "3    normal distribution  ...                s3\n",
              "4   poisson distribution  ...            docker\n",
              "5        survival models  ...         kubernets\n",
              "6     hypothesis testing  ...             scala\n",
              "7     bayesian inference  ...          teradata\n",
              "8        factor analysis  ...  google big query\n",
              "9            forecasting  ...        aws lambda\n",
              "10          markov chain  ...           aws emr\n",
              "11           monte cario  ...              hive\n",
              "12                   NaN  ...            hadoop\n",
              "13                   NaN  ...               sql\n",
              "14                   NaN  ...               NaN\n",
              "15                   NaN  ...               NaN\n",
              "16                   NaN  ...               NaN\n",
              "17                   NaN  ...               NaN\n",
              "18                   NaN  ...               NaN\n",
              "19                   NaN  ...               NaN\n",
              "\n",
              "[20 rows x 7 columns]"
            ]
          },
          "metadata": {
            "tags": []
          },
          "execution_count": 2
        }
      ]
    },
    {
      "cell_type": "markdown",
      "metadata": {
        "id": "47YD4Ad0KSNI",
        "colab_type": "text"
      },
      "source": [
        "After that we read the resumes from the json file. Since the file does not have a regular json structure, we can use the fact that every resume is written on a single row to get every resume easy. After that the text is converted to a json object, then the resume is extracted and a new dataframe is created that will store all resumes and the information that will be added subsequently such as name and skills. Below is the implementation of the explained steps.  "
      ]
    },
    {
      "cell_type": "code",
      "metadata": {
        "id": "BH5jzTciPLw7",
        "colab_type": "code",
        "colab": {}
      },
      "source": [
        "#reading the resumes from the json file\n",
        "resumes = []\n",
        "resumes_file = open(\"/content/Entity Recognition in Resumes.json\", 'r')\n",
        "resumes = resumes_file.readlines()"
      ],
      "execution_count": 0,
      "outputs": []
    },
    {
      "cell_type": "code",
      "metadata": {
        "id": "aDdxHBZeRamF",
        "colab_type": "code",
        "colab": {}
      },
      "source": [
        "#converting every line to json object \n",
        "resumes_json = []\n",
        "for resume in resumes:\n",
        "  resume_json = json.loads(resume)\n",
        "  resumes_json.append(resume_json)"
      ],
      "execution_count": 0,
      "outputs": []
    },
    {
      "cell_type": "code",
      "metadata": {
        "id": "Zd9ZaVZ3R3ce",
        "colab_type": "code",
        "colab": {}
      },
      "source": [
        "#this instruction is used to display the full resume in the dataframe, \n",
        "#otherwise only a number of characters will be displayed \n",
        "pd.set_option('display.max_colwidth', -1)"
      ],
      "execution_count": 0,
      "outputs": []
    },
    {
      "cell_type": "code",
      "metadata": {
        "id": "mobVWeOiTh2D",
        "colab_type": "code",
        "outputId": "baf2dfb2-639b-430b-9676-8e7957e2b468",
        "colab": {
          "base_uri": "https://localhost:8080/",
          "height": 539
        }
      },
      "source": [
        "#a sample of the resumes\n",
        "resumes_df = pd.DataFrame([res['content'] for res in resumes_json])\n",
        "resumes_df.sample(1)"
      ],
      "execution_count": 6,
      "outputs": [
        {
          "output_type": "execute_result",
          "data": {
            "text/html": [
              "<div>\n",
              "<style scoped>\n",
              "    .dataframe tbody tr th:only-of-type {\n",
              "        vertical-align: middle;\n",
              "    }\n",
              "\n",
              "    .dataframe tbody tr th {\n",
              "        vertical-align: top;\n",
              "    }\n",
              "\n",
              "    .dataframe thead th {\n",
              "        text-align: right;\n",
              "    }\n",
              "</style>\n",
              "<table border=\"1\" class=\"dataframe\">\n",
              "  <thead>\n",
              "    <tr style=\"text-align: right;\">\n",
              "      <th></th>\n",
              "      <th>0</th>\n",
              "    </tr>\n",
              "  </thead>\n",
              "  <tbody>\n",
              "    <tr>\n",
              "      <th>75</th>\n",
              "      <td>Sarfaraz Ahmad\\nAssociate network engineer - TATA Communications Ltd\\n\\nMuzaffarpur, Bihar - Email me on Indeed: indeed.com/r/Sarfaraz-Ahmad/1498048ada755ac3\\n\\nCisco Certified Internetwork Associate in Routing &amp; Switching with progressive experience in\\ndeployment and administration of Network infrastructure. I am looking for opportunities to further\\nimprove my abilities &amp; skills in the field of Network and Security technologies.\\n\\n➢ Professional 2.5 years of experience in network Implementation &amp; Troubleshooting in local and\\nremote environments.\\n➢ Well accented with the key IT skills in the domain of LAN/WAN/Network Security, installation &amp;\\nconfiguration of IT networks, maintenance &amp; troubleshooting.\\n➢ Potential of handling multiple tasks easily and capable of meeting deadlines.\\n➢ Possess excellent interpersonal communications and organizational skills.\\n\\nWORK EXPERIENCE\\n\\nAssociate network engineer\\n\\nTATA Communications Ltd -  Pune, Maharashtra -\\n\\nMarch 2017 to Present\\n\\nDepartment: CMIP (IP Provisioning)\\n\\nResponsibilities:-\\n➢ Working on Alcatel Migration project for Tata Communications Ltd, responsible for provisioning\\nand migrating customer services from Cisco (7200/7600) /Juniper (MX104) to Alcatel provider\\nedge router (SR 7750)\\n➢ To carry out bulk migration and planned events of enterprise customers to enhance the network\\ncapabilities and compatibilities for new technologies.\\n➢ Responsible for carrying domestic as well as international customer services migration\\nactivities in bulk. Involving all other stakeholders responsible for end to end delivery of customer\\nservices, to carry the successful migration.\\n➢ Parenting existing business switch ring with Alcatel Routers in combination with cisco routers\\nwith the help of field Engineers and synchronizing vlan database on each switch.\\n➢ Shut the interface and protocol on Cisco Routers and un-shut the interface on Alcatel routers\\nduring Migration activity.\\n➢ Comparing the results of pre-check and post-checks and revert the links to cisco that are not\\ncoming Up on Alcatel or not compatible with cisco i.e. EIGRP.\\n➢ Troubleshooting and resolving the customer issues related to either at routing level such as\\nEIGRP, OSPF, BGP, MPLS or at access level Post migration activity.\\n➢ Troubleshooting and managing LAN-to-LAN VPN on cisco router.\\n➢ Troubleshooting and managing GRE Tunnel on services Getaway.\\n➢ Configuration on cisco, juniper, Huawei switch creation Ether channel, VLAN, MSTP, QNQ,\\nDot1Q etc.\\n➢ Configuring and managing SVI interface on a Layer3 switch to provide inter VLAN routing.\\n➢ Configuration Line VTY on customer CISCO router.\\n\\nhttps://www.indeed.com/r/Sarfaraz-Ahmad/1498048ada755ac3?isid=rex-download&amp;ikw=download-top&amp;co=IN\\n\\n\\n➢ Configuration port security on customer hand up switch port.\\n➢ Troubleshooting end user network connectivity issue.\\n➢ Performing technical escalations in line with company policy.\\n➢ Accountable for customer review meetings weekly basis &amp; giving feedback to the subordinate\\nteam and Management.\\n➢ Responsible for any internal or external escalation (Customer's End)\\n➢ Focus on customer requirements and providing them strategic plans for backups, redundancies\\nand minimum downtimes under severe outages.\\n\\nNetwork engineer\\n\\nCisco -  Mumbai, Maharashtra -\\n\\nAugust 2015 to February 2017\\n\\nResponsibilities/Achievement\\n➢ Experience in configuring and troubleshooting of routing protocols and Firewalls\\n➢ Backing up and Upgrading software on Cisco router, switches using TFTP server\\n➢ Troubleshooting end user network connectivity issue\\n➢ Experience in installing and configuring DHCP services on Cisco Router and Switch.\\n➢ Configuring and troubleshooting Ether channel/Port-channel issue\\n➢ Configuring and troubleshooting VLAN, VTP and STP.\\n➢ Configuring and managing BPDU guard and Filter on a switch\\n➢ Providing port security on switch interface\\n➢ Dealing with Dynamic routing protocol Such as EIGRP, OSPF and BGP\\n➢ Configuring and managing SVI interface on a Layer3 switch to provide inter VLAN routing\\n➢ Worked on networks with WAN protocols such as HDLC and PPP.\\n➢ Worked on Gateway Redundancy protocols such as HSRP on Cisco Router.\\n➢ Implemented traffic filters using Standard and Extended access-lists, Distribute-Lists, and\\nRoute Maps.\\n➢ Installation, upgradation, Backup and restoration of checkpoint firewall\\n➢ Implemented rules, NAT, URL filtering on checkpoint firewall.\\n➢ Configuring and managing Rules and NAT on firewalls.\\n\\nEDUCATION\\n\\nBachelor of Commerce in Commerce\\n\\nR.D.S COLLEGE -  Bihar Sharif, Bihar\\n\\nJuly 2013\\n\\nH.S.C\\n\\nDr. R.M.L.S COLLEGE -  Bihar Sharif, Bihar\\n\\n2009\\n\\nS.S.C in G.N.H.S\\n\\nBihar School Examination Board -  Patna, Bihar\\n\\n\\n\\n2007\\n\\nSKILLS\\n\\nBGP (2 years), EIGRP. (2 years), OSPF (2 years), security (2 years), vlan (2 years)\\n\\nADDITIONAL INFORMATION\\n\\nTechnical Skills\\n\\nNetwork\\n➢ Switching: CST, PVST, PVST+, RSTP and MST, VLAN, Private VLAN, Trucking, Inter-VLAN Routing,\\nSPAN/RSPAN, Ether channel or Port Bundling using static and dynamic protocol (PAgP and LACP)\\n➢ FHRP: HSRP (V1 &amp; V2), VRRP and GLBP.\\n➢ Routing: Configuration and Troubleshooting Layer 3 Routing protocols such as Static routing,\\nfloating routing, RIP, EIGRP, OSPF, BGP, VRF-Lite and MPLS.\\n\\nData Security\\n➢ Checkpoint Firewall: FW Monitor, TCP-Dumps, Rules, NAT, IPsec VPN, Backup &amp; Restore, URL\\nfiltering, Installation, Migration, Upgradation, ClusterXL etc.\\n➢ ASA Firewall: Access Control Lists with object, Address Translation, IPsec VPN, LAN-to-LAN VPN,\\nHigh Availability in Active-Active &amp; Active-Standby Mode, Redundant interface, SLA Monitoring,\\nSecurity Contexts.\\n➢ IOS Firewall: Standard and extended access list and Zone Based Firewall (ZBF), DMVPN, IPsec,\\nIPsec over GRE.\\n\\nServices\\n➢ Services: ARP, GARP, RARP, DNS, DHCP, FTP, TFTP, TCP, ICMP, TELNET, SSH, HTTP, HTTPS. IP\\nSLA, NTP, SNMP\\n\\nAreas of Interest\\n\\n➢ To perform troubleshooting and network performance planning.\\n➢ To implement enterprise level network architectures.</td>\n",
              "    </tr>\n",
              "  </tbody>\n",
              "</table>\n",
              "</div>"
            ],
            "text/plain": [
              "                                                                                                                                                                                                                                                                                                                                                                                                                                                                                                                                                                                                                                                                                                                                                                                                                                                                                                                                                                                                                                                                                                                                                                                                                                                                                                                                                                                                                                                                                                                                                                                                                                                                                                                                                                                                                                                                                                                                                                                                                                                                                                                                                                                                                                                                                                                                                                                                                                                                                                                                                                                                                                                                                                                                                                                                                                                                                                                                                                                                                                                                                                                                                                                                                                                                                                                                                                                                                                                                                                                                                                                                                                                                                                                                                                                                                                                                                                                                                                                                                                                                                                                                                                                                                                                                                                                                                                                                                                                                                                                                                                                                                                                                                                                                                                                                                                                                                                                                                                                                                                                                                                                                                                                                                                                                                                                                                                                                                                                                                                                                                                                                                                                                                                                                                                                                                                                                                                                                                                                                                                                                                                                                                                                                                                                                                                                                                0\n",
              "75  Sarfaraz Ahmad\\nAssociate network engineer - TATA Communications Ltd\\n\\nMuzaffarpur, Bihar - Email me on Indeed: indeed.com/r/Sarfaraz-Ahmad/1498048ada755ac3\\n\\nCisco Certified Internetwork Associate in Routing & Switching with progressive experience in\\ndeployment and administration of Network infrastructure. I am looking for opportunities to further\\nimprove my abilities & skills in the field of Network and Security technologies.\\n\\n➢ Professional 2.5 years of experience in network Implementation & Troubleshooting in local and\\nremote environments.\\n➢ Well accented with the key IT skills in the domain of LAN/WAN/Network Security, installation &\\nconfiguration of IT networks, maintenance & troubleshooting.\\n➢ Potential of handling multiple tasks easily and capable of meeting deadlines.\\n➢ Possess excellent interpersonal communications and organizational skills.\\n\\nWORK EXPERIENCE\\n\\nAssociate network engineer\\n\\nTATA Communications Ltd -  Pune, Maharashtra -\\n\\nMarch 2017 to Present\\n\\nDepartment: CMIP (IP Provisioning)\\n\\nResponsibilities:-\\n➢ Working on Alcatel Migration project for Tata Communications Ltd, responsible for provisioning\\nand migrating customer services from Cisco (7200/7600) /Juniper (MX104) to Alcatel provider\\nedge router (SR 7750)\\n➢ To carry out bulk migration and planned events of enterprise customers to enhance the network\\ncapabilities and compatibilities for new technologies.\\n➢ Responsible for carrying domestic as well as international customer services migration\\nactivities in bulk. Involving all other stakeholders responsible for end to end delivery of customer\\nservices, to carry the successful migration.\\n➢ Parenting existing business switch ring with Alcatel Routers in combination with cisco routers\\nwith the help of field Engineers and synchronizing vlan database on each switch.\\n➢ Shut the interface and protocol on Cisco Routers and un-shut the interface on Alcatel routers\\nduring Migration activity.\\n➢ Comparing the results of pre-check and post-checks and revert the links to cisco that are not\\ncoming Up on Alcatel or not compatible with cisco i.e. EIGRP.\\n➢ Troubleshooting and resolving the customer issues related to either at routing level such as\\nEIGRP, OSPF, BGP, MPLS or at access level Post migration activity.\\n➢ Troubleshooting and managing LAN-to-LAN VPN on cisco router.\\n➢ Troubleshooting and managing GRE Tunnel on services Getaway.\\n➢ Configuration on cisco, juniper, Huawei switch creation Ether channel, VLAN, MSTP, QNQ,\\nDot1Q etc.\\n➢ Configuring and managing SVI interface on a Layer3 switch to provide inter VLAN routing.\\n➢ Configuration Line VTY on customer CISCO router.\\n\\nhttps://www.indeed.com/r/Sarfaraz-Ahmad/1498048ada755ac3?isid=rex-download&ikw=download-top&co=IN\\n\\n\\n➢ Configuration port security on customer hand up switch port.\\n➢ Troubleshooting end user network connectivity issue.\\n➢ Performing technical escalations in line with company policy.\\n➢ Accountable for customer review meetings weekly basis & giving feedback to the subordinate\\nteam and Management.\\n➢ Responsible for any internal or external escalation (Customer's End)\\n➢ Focus on customer requirements and providing them strategic plans for backups, redundancies\\nand minimum downtimes under severe outages.\\n\\nNetwork engineer\\n\\nCisco -  Mumbai, Maharashtra -\\n\\nAugust 2015 to February 2017\\n\\nResponsibilities/Achievement\\n➢ Experience in configuring and troubleshooting of routing protocols and Firewalls\\n➢ Backing up and Upgrading software on Cisco router, switches using TFTP server\\n➢ Troubleshooting end user network connectivity issue\\n➢ Experience in installing and configuring DHCP services on Cisco Router and Switch.\\n➢ Configuring and troubleshooting Ether channel/Port-channel issue\\n➢ Configuring and troubleshooting VLAN, VTP and STP.\\n➢ Configuring and managing BPDU guard and Filter on a switch\\n➢ Providing port security on switch interface\\n➢ Dealing with Dynamic routing protocol Such as EIGRP, OSPF and BGP\\n➢ Configuring and managing SVI interface on a Layer3 switch to provide inter VLAN routing\\n➢ Worked on networks with WAN protocols such as HDLC and PPP.\\n➢ Worked on Gateway Redundancy protocols such as HSRP on Cisco Router.\\n➢ Implemented traffic filters using Standard and Extended access-lists, Distribute-Lists, and\\nRoute Maps.\\n➢ Installation, upgradation, Backup and restoration of checkpoint firewall\\n➢ Implemented rules, NAT, URL filtering on checkpoint firewall.\\n➢ Configuring and managing Rules and NAT on firewalls.\\n\\nEDUCATION\\n\\nBachelor of Commerce in Commerce\\n\\nR.D.S COLLEGE -  Bihar Sharif, Bihar\\n\\nJuly 2013\\n\\nH.S.C\\n\\nDr. R.M.L.S COLLEGE -  Bihar Sharif, Bihar\\n\\n2009\\n\\nS.S.C in G.N.H.S\\n\\nBihar School Examination Board -  Patna, Bihar\\n\\n\\n\\n2007\\n\\nSKILLS\\n\\nBGP (2 years), EIGRP. (2 years), OSPF (2 years), security (2 years), vlan (2 years)\\n\\nADDITIONAL INFORMATION\\n\\nTechnical Skills\\n\\nNetwork\\n➢ Switching: CST, PVST, PVST+, RSTP and MST, VLAN, Private VLAN, Trucking, Inter-VLAN Routing,\\nSPAN/RSPAN, Ether channel or Port Bundling using static and dynamic protocol (PAgP and LACP)\\n➢ FHRP: HSRP (V1 & V2), VRRP and GLBP.\\n➢ Routing: Configuration and Troubleshooting Layer 3 Routing protocols such as Static routing,\\nfloating routing, RIP, EIGRP, OSPF, BGP, VRF-Lite and MPLS.\\n\\nData Security\\n➢ Checkpoint Firewall: FW Monitor, TCP-Dumps, Rules, NAT, IPsec VPN, Backup & Restore, URL\\nfiltering, Installation, Migration, Upgradation, ClusterXL etc.\\n➢ ASA Firewall: Access Control Lists with object, Address Translation, IPsec VPN, LAN-to-LAN VPN,\\nHigh Availability in Active-Active & Active-Standby Mode, Redundant interface, SLA Monitoring,\\nSecurity Contexts.\\n➢ IOS Firewall: Standard and extended access list and Zone Based Firewall (ZBF), DMVPN, IPsec,\\nIPsec over GRE.\\n\\nServices\\n➢ Services: ARP, GARP, RARP, DNS, DHCP, FTP, TFTP, TCP, ICMP, TELNET, SSH, HTTP, HTTPS. IP\\nSLA, NTP, SNMP\\n\\nAreas of Interest\\n\\n➢ To perform troubleshooting and network performance planning.\\n➢ To implement enterprise level network architectures."
            ]
          },
          "metadata": {
            "tags": []
          },
          "execution_count": 6
        }
      ]
    },
    {
      "cell_type": "code",
      "metadata": {
        "id": "2xP9HizXKVcg",
        "colab_type": "code",
        "colab": {}
      },
      "source": [
        "resumes_list = [res['content'] for res in resumes_json]"
      ],
      "execution_count": 0,
      "outputs": []
    },
    {
      "cell_type": "code",
      "metadata": {
        "id": "ti2egQShFPVf",
        "colab_type": "code",
        "outputId": "5ebc0fef-9f55-4a2a-84c7-408cb069e5ad",
        "colab": {
          "base_uri": "https://localhost:8080/",
          "height": 1000
        }
      },
      "source": [
        "#a sample from the resume list\n",
        "print(resumes_list[0])"
      ],
      "execution_count": 8,
      "outputs": [
        {
          "output_type": "stream",
          "text": [
            "Abhishek Jha\n",
            "Application Development Associate - Accenture\n",
            "\n",
            "Bengaluru, Karnataka - Email me on Indeed: indeed.com/r/Abhishek-Jha/10e7a8cb732bc43a\n",
            "\n",
            "• To work for an organization which provides me the opportunity to improve my skills\n",
            "and knowledge for my individual and company's growth in best possible ways.\n",
            "\n",
            "Willing to relocate to: Bangalore, Karnataka\n",
            "\n",
            "WORK EXPERIENCE\n",
            "\n",
            "Application Development Associate\n",
            "\n",
            "Accenture -\n",
            "\n",
            "November 2017 to Present\n",
            "\n",
            "Role: Currently working on Chat-bot. Developing Backend Oracle PeopleSoft Queries\n",
            "for the Bot which will be triggered based on given input. Also, Training the bot for different possible\n",
            "utterances (Both positive and negative), which will be given as\n",
            "input by the user.\n",
            "\n",
            "EDUCATION\n",
            "\n",
            "B.E in Information science and engineering\n",
            "\n",
            "B.v.b college of engineering and technology -  Hubli, Karnataka\n",
            "\n",
            "August 2013 to June 2017\n",
            "\n",
            "12th in Mathematics\n",
            "\n",
            "Woodbine modern school\n",
            "\n",
            "April 2011 to March 2013\n",
            "\n",
            "10th\n",
            "\n",
            "Kendriya Vidyalaya\n",
            "\n",
            "April 2001 to March 2011\n",
            "\n",
            "SKILLS\n",
            "\n",
            "C (Less than 1 year), Database (Less than 1 year), Database Management (Less than 1 year),\n",
            "Database Management System (Less than 1 year), Java (Less than 1 year)\n",
            "\n",
            "ADDITIONAL INFORMATION\n",
            "\n",
            "Technical Skills\n",
            "\n",
            "https://www.indeed.com/r/Abhishek-Jha/10e7a8cb732bc43a?isid=rex-download&ikw=download-top&co=IN\n",
            "\n",
            "\n",
            "• Programming language: C, C++, Java\n",
            "• Oracle PeopleSoft\n",
            "• Internet Of Things\n",
            "• Machine Learning\n",
            "• Database Management System\n",
            "• Computer Networks\n",
            "• Operating System worked on: Linux, Windows, Mac\n",
            "\n",
            "Non - Technical Skills\n",
            "\n",
            "• Honest and Hard-Working\n",
            "• Tolerant and Flexible to Different Situations\n",
            "• Polite and Calm\n",
            "• Team-Player\n"
          ],
          "name": "stdout"
        }
      ]
    },
    {
      "cell_type": "markdown",
      "metadata": {
        "id": "GBI1PNCaU42i",
        "colab_type": "text"
      },
      "source": [
        "For easier final storage of the data we define a specific class that represents a candidates profile. The final data will be stored in a class called \"Profile\",witch can be in Figure 4."
      ]
    },
    {
      "cell_type": "code",
      "metadata": {
        "id": "QFIrimKPFUmn",
        "colab_type": "code",
        "outputId": "e18c9f81-9da8-4cb5-9900-171bc3e3cdad",
        "colab": {
          "base_uri": "https://localhost:8080/",
          "height": 199
        }
      },
      "source": [
        "#same sample from the dataframe\n",
        "resumes_df.iloc[:1]"
      ],
      "execution_count": 9,
      "outputs": [
        {
          "output_type": "execute_result",
          "data": {
            "text/html": [
              "<div>\n",
              "<style scoped>\n",
              "    .dataframe tbody tr th:only-of-type {\n",
              "        vertical-align: middle;\n",
              "    }\n",
              "\n",
              "    .dataframe tbody tr th {\n",
              "        vertical-align: top;\n",
              "    }\n",
              "\n",
              "    .dataframe thead th {\n",
              "        text-align: right;\n",
              "    }\n",
              "</style>\n",
              "<table border=\"1\" class=\"dataframe\">\n",
              "  <thead>\n",
              "    <tr style=\"text-align: right;\">\n",
              "      <th></th>\n",
              "      <th>0</th>\n",
              "    </tr>\n",
              "  </thead>\n",
              "  <tbody>\n",
              "    <tr>\n",
              "      <th>0</th>\n",
              "      <td>Abhishek Jha\\nApplication Development Associate - Accenture\\n\\nBengaluru, Karnataka - Email me on Indeed: indeed.com/r/Abhishek-Jha/10e7a8cb732bc43a\\n\\n• To work for an organization which provides me the opportunity to improve my skills\\nand knowledge for my individual and company's growth in best possible ways.\\n\\nWilling to relocate to: Bangalore, Karnataka\\n\\nWORK EXPERIENCE\\n\\nApplication Development Associate\\n\\nAccenture -\\n\\nNovember 2017 to Present\\n\\nRole: Currently working on Chat-bot. Developing Backend Oracle PeopleSoft Queries\\nfor the Bot which will be triggered based on given input. Also, Training the bot for different possible\\nutterances (Both positive and negative), which will be given as\\ninput by the user.\\n\\nEDUCATION\\n\\nB.E in Information science and engineering\\n\\nB.v.b college of engineering and technology -  Hubli, Karnataka\\n\\nAugust 2013 to June 2017\\n\\n12th in Mathematics\\n\\nWoodbine modern school\\n\\nApril 2011 to March 2013\\n\\n10th\\n\\nKendriya Vidyalaya\\n\\nApril 2001 to March 2011\\n\\nSKILLS\\n\\nC (Less than 1 year), Database (Less than 1 year), Database Management (Less than 1 year),\\nDatabase Management System (Less than 1 year), Java (Less than 1 year)\\n\\nADDITIONAL INFORMATION\\n\\nTechnical Skills\\n\\nhttps://www.indeed.com/r/Abhishek-Jha/10e7a8cb732bc43a?isid=rex-download&amp;ikw=download-top&amp;co=IN\\n\\n\\n• Programming language: C, C++, Java\\n• Oracle PeopleSoft\\n• Internet Of Things\\n• Machine Learning\\n• Database Management System\\n• Computer Networks\\n• Operating System worked on: Linux, Windows, Mac\\n\\nNon - Technical Skills\\n\\n• Honest and Hard-Working\\n• Tolerant and Flexible to Different Situations\\n• Polite and Calm\\n• Team-Player</td>\n",
              "    </tr>\n",
              "  </tbody>\n",
              "</table>\n",
              "</div>"
            ],
            "text/plain": [
              "                                                                                                                                                                                                                                                                                                                                                                                                                                                                                                                                                                                                                                                                                                                                                                                                                                                                                                                                                                                                                                                                                                                                                                                                                                                                                                                                                                                                                                                                                                                                                                                                                                                                                                                                                            0\n",
              "0  Abhishek Jha\\nApplication Development Associate - Accenture\\n\\nBengaluru, Karnataka - Email me on Indeed: indeed.com/r/Abhishek-Jha/10e7a8cb732bc43a\\n\\n• To work for an organization which provides me the opportunity to improve my skills\\nand knowledge for my individual and company's growth in best possible ways.\\n\\nWilling to relocate to: Bangalore, Karnataka\\n\\nWORK EXPERIENCE\\n\\nApplication Development Associate\\n\\nAccenture -\\n\\nNovember 2017 to Present\\n\\nRole: Currently working on Chat-bot. Developing Backend Oracle PeopleSoft Queries\\nfor the Bot which will be triggered based on given input. Also, Training the bot for different possible\\nutterances (Both positive and negative), which will be given as\\ninput by the user.\\n\\nEDUCATION\\n\\nB.E in Information science and engineering\\n\\nB.v.b college of engineering and technology -  Hubli, Karnataka\\n\\nAugust 2013 to June 2017\\n\\n12th in Mathematics\\n\\nWoodbine modern school\\n\\nApril 2011 to March 2013\\n\\n10th\\n\\nKendriya Vidyalaya\\n\\nApril 2001 to March 2011\\n\\nSKILLS\\n\\nC (Less than 1 year), Database (Less than 1 year), Database Management (Less than 1 year),\\nDatabase Management System (Less than 1 year), Java (Less than 1 year)\\n\\nADDITIONAL INFORMATION\\n\\nTechnical Skills\\n\\nhttps://www.indeed.com/r/Abhishek-Jha/10e7a8cb732bc43a?isid=rex-download&ikw=download-top&co=IN\\n\\n\\n• Programming language: C, C++, Java\\n• Oracle PeopleSoft\\n• Internet Of Things\\n• Machine Learning\\n• Database Management System\\n• Computer Networks\\n• Operating System worked on: Linux, Windows, Mac\\n\\nNon - Technical Skills\\n\\n• Honest and Hard-Working\\n• Tolerant and Flexible to Different Situations\\n• Polite and Calm\\n• Team-Player"
            ]
          },
          "metadata": {
            "tags": []
          },
          "execution_count": 9
        }
      ]
    },
    {
      "cell_type": "code",
      "metadata": {
        "id": "sN_LKrdZZFJH",
        "colab_type": "code",
        "colab": {}
      },
      "source": [
        "#Figure 4. The Profile class that will store the profiles\n",
        "class Profile:  \n",
        "  \"\"\"\n",
        "  This class contains information about every employee as therir:\n",
        "   name, CV, and skills\n",
        "   \n",
        "  Attributes \n",
        "  ----------\n",
        "   name : str\n",
        "      name of the candidate\n",
        "   CV   : str\n",
        "      the resume as a string\n",
        "  skills : dictionary\n",
        "      describes the candidates situation on every domanin as key-value pairs \n",
        "      where the key is one of the domains and the value is the compatibility score\n",
        "      ex : {\n",
        "            Data science     : [SQL, SQL]\n",
        "            Machine learning : [neural networks]\n",
        "            Data engineering : [S3, AWS]\n",
        "            }\n",
        "   \"\"\"\n",
        "  def __init__(self,name : str,CV : str,skills: type({})):\n",
        "    self.name = name\n",
        "    self.CV = CV\n",
        "    self.skills = skills\n",
        "  def set_name(self,name):\n",
        "    self.name = name\n",
        "  def get_name(self):\n",
        "    return self.name\n",
        "  def get_skills(self):\n",
        "    return self.skills\n",
        "  def set_skills(self,skills):\n",
        "    self.skills = skills\n",
        "  def get_CV(self):\n",
        "    return self.CV\n",
        "  def set_CV(self, CV):\n",
        "    self.CV = CV"
      ],
      "execution_count": 0,
      "outputs": []
    },
    {
      "cell_type": "markdown",
      "metadata": {
        "id": "ZHQH-zMiPqx7",
        "colab_type": "text"
      },
      "source": [
        "The next part is preparing the spacy model for utilizing the PhraseMatcher. Spacy requires a specifical model witch can be downloaded with the below instructions. The models cand be found [on the libraries website](https://spacy.io/models/en). "
      ]
    },
    {
      "cell_type": "code",
      "metadata": {
        "id": "u1qTdK26Uvoz",
        "colab_type": "code",
        "outputId": "efae7336-b779-4c79-c6c0-2135ef71c9b0",
        "colab": {
          "base_uri": "https://localhost:8080/",
          "height": 88
        }
      },
      "source": [
        "!python -m spacy download en_core_web_sm"
      ],
      "execution_count": 11,
      "outputs": [
        {
          "output_type": "stream",
          "text": [
            "Requirement already satisfied: en_core_web_sm==2.1.0 from https://github.com/explosion/spacy-models/releases/download/en_core_web_sm-2.1.0/en_core_web_sm-2.1.0.tar.gz#egg=en_core_web_sm==2.1.0 in /usr/local/lib/python3.6/dist-packages (2.1.0)\n",
            "\u001b[38;5;2m✔ Download and installation successful\u001b[0m\n",
            "You can now load the model via spacy.load('en_core_web_sm')\n"
          ],
          "name": "stdout"
        }
      ]
    },
    {
      "cell_type": "code",
      "metadata": {
        "id": "F06nCn1gZAxR",
        "colab_type": "code",
        "colab": {}
      },
      "source": [
        "#loading the downloaded model\n",
        "nlp = spacy.load(\"en_core_web_sm\")"
      ],
      "execution_count": 0,
      "outputs": []
    },
    {
      "cell_type": "markdown",
      "metadata": {
        "id": "SFzsfFpzZEZJ",
        "colab_type": "text"
      },
      "source": [
        "After the model has been succesfully loaded, we begin the information extraction process. The first step is extracting the name from the resume.\n",
        "Extracting the name has proven to a relative difficult task given the semi-structured nature of the resume, meaning that it can appear anywhere in the document, however we can relatively safe assume that  it apears on the top side. For the name extaction we present two diffrent aproaches.\n",
        "The first uses the assumption that the name is composed by two proper nouns, giving the following posibility: it is posible to identify the name of a person by searching in the text for two consecutive nouns in the first part of the resume. The implementaion is presented in Figure 5. "
      ]
    },
    {
      "cell_type": "code",
      "metadata": {
        "id": "ugjzbiZ2tyCw",
        "colab_type": "code",
        "colab": {}
      },
      "source": [
        "#creating a matcher object\n",
        "matcher = Matcher(nlp.vocab)"
      ],
      "execution_count": 0,
      "outputs": []
    },
    {
      "cell_type": "code",
      "metadata": {
        "id": "wpuYHCfEuVaR",
        "colab_type": "code",
        "colab": {}
      },
      "source": [
        "#Figure 5. the name extraction process based on proper nouns.\n",
        "def extract_name_phrase_matcher(resume_text):\n",
        "    nlp_text = nlp(resume_text)\n",
        "    \n",
        "    # First name and Last name are always Proper Nouns\n",
        "    pattern = [{'POS': 'PROPN'}, {'POS': 'PROPN'}]\n",
        "    \n",
        "    matcher.add('name', None, pattern)\n",
        "    \n",
        "    matches = matcher(nlp_text)\n",
        "    \n",
        "    for match_id, start, end in matches:\n",
        "        span = nlp_text[start:end]\n",
        "        return span.text"
      ],
      "execution_count": 0,
      "outputs": []
    },
    {
      "cell_type": "code",
      "metadata": {
        "id": "IfRFRREeuvtM",
        "colab_type": "code",
        "colab": {}
      },
      "source": [
        "names = []\n",
        "for resume in resumes_list:\n",
        "  name = extract_name_phrase_matcher(resume)\n",
        "  names.append(name)"
      ],
      "execution_count": 0,
      "outputs": []
    },
    {
      "cell_type": "markdown",
      "metadata": {
        "id": "dtkqi0dfctIE",
        "colab_type": "text"
      },
      "source": [
        "The extracted names from the resumes can be visualized in Figure 6. As the below figure shows, the percentage of accuracy is relatively good, however some errors still appear. "
      ]
    },
    {
      "cell_type": "code",
      "metadata": {
        "id": "dlHHo71twP9-",
        "colab_type": "code",
        "outputId": "b38204ba-a7ab-4d52-8bea-b56fecc12da9",
        "colab": {
          "base_uri": "https://localhost:8080/",
          "height": 1000
        }
      },
      "source": [
        "#Figure 6 The extracted names\n",
        "for i in range(0,len(names)):\n",
        "  print(i,\"    \", names[i])"
      ],
      "execution_count": 16,
      "outputs": [
        {
          "output_type": "stream",
          "text": [
            "0      Abhishek Jha\n",
            "1      Afreen Jamadar\n",
            "2      Akhil Yadav\n",
            "3      Alok Khandai\n",
            "4      Ananya Chavan\n",
            "5      Anvitha Rao\n",
            "6      Senior Program\n",
            "7      Arun Elumalai\n",
            "8      Ashalata Bisoyi\n",
            "9      Ashok Kunam\n",
            "10      Tamil Nadu\n",
            "11      Avin Sharma\n",
            "12      Ayesha B\n",
            "13      Ayushi Srivastava\n",
            "14      Bhawana Daf\n",
            "15      Financial Analyst\n",
            "16      Dhanushkodi Raj\n",
            "17      Dinesh Reddy\n",
            "18      Dipesh Gulati\n",
            "19      Dushyant Bhatt\n",
            "20      Govardhana K\n",
            "21      Harini Komaravelli\n",
            "22      Hartej Kathuria\n",
            "23      Ijas Nizamuddin\n",
            "24      Imgeeyaul Ansari\n",
            "25      Jay Madhavi\n",
            "26      Jitendra Babu\n",
            "27      Jyotirbindu Patnaik\n",
            "28      Karthihayini C\n",
            "29      Karthik GV\n",
            "30      Kartik Sharma\n",
            "31      Kasturika Borah\n",
            "32      Kavitha K\n",
            "33      Kavya U.\n",
            "34      Khushboo Choudhary\n",
            "35      Technical Support\n",
            "36      Koushik Katta\n",
            "37      Kowsick Somasundaram\n",
            "38      Lakshika Neelakshi\n",
            "39      Madas Peddaiah\n",
            "40      Madhuri Sripathi\n",
            "41      Mahesh Vijay\n",
            "42      Manisha Bharti\n",
            "43      Manjari Singh\n",
            "44      Mohamed Ameen\n",
            "45      Mohini Gupta\n",
            "46      Navas Koya\n",
            "47      Navjyot Singh\n",
            "48      Nazish Alam\n",
            "49      Nidhi Pandit\n",
            "50      Nikhileshkumar Ikhar\n",
            "51      Bangalore Urban\n",
            "52      LEAD ENGINEER\n",
            "53      Prakriti Shaurya\n",
            "54      Devops Engineer\n",
            "55      Principal Consultant\n",
            "56      Prem Koshti\n",
            "57      Pulkit Saxena\n",
            "58      Puneet Singh\n",
            "59      Rahul Bollu\n",
            "60      Rajeev Kumar\n",
            "61      Software Development\n",
            "62      Ramesh HP\n",
            "63      Software Test\n",
            "64      R Arunravi\n",
            "65      Ravi Shankar\n",
            "66      Ravi Shivgond\n",
            "67      Rohit Bijlani\n",
            "68      Roshan Sinha\n",
            "69      Sai Dhir\n",
            "70      Sai Patha\n",
            "71      Sai Vivek\n",
            "72      Sameer Kujur\n",
            "73      Samyuktha Shivakumar\n",
            "74      Santosh Ganta\n",
            "75      Sarfaraz Ahmad\n",
            "76      Senthil Kumar\n",
            "77      Shabnam Saba\n",
            "78      Shaheen Unissa\n",
            "79      Sharan Adla\n",
            "80      Shreyanshu Gupta\n",
            "81      Shrishti Chauhan\n",
            "82      Shubham Mittal\n",
            "83      Sivaganesh Selvakumar\n",
            "84      Snehal Jadhav\n",
            "85      Soumya Balan\n",
            "86      Soumya Balan\n",
            "87      Sowmya Karanth\n",
            "88      Srabani Das\n",
            "89      Test Manager\n",
            "90      Srushti Bhadale\n",
            "91      Sudaya Puranik\n",
            "92      Sumit Kubade\n",
            "93      Syam Devendla\n",
            "94      Tejasri Gunnam\n",
            "95      Urshila Lohani\n",
            "96      None\n",
            "97      VARUN AHLUWALIA\n",
            "98      SAP Basis\n",
            "99      Vikas Singh\n",
            "100      Yasothai Jayaramachandran\n",
            "101      Maximo Consultant\n",
            "102      Yogi Pesaru\n",
            "103      Anurag Asthana\n",
            "104      Syed Sadath\n",
            "105      Nida Khan\n",
            "106      Fenil Francis\n",
            "107      Gaurav Soni\n",
            "108      Viny Khandelwal\n",
            "109      Accent Trainer\n",
            "110      Sameer Kujur\n",
            "111      Zaheer Uddin\n",
            "112      Abdul B\n",
            "113      Bike Rally\n",
            "114      Girish Acharya\n",
            "115      Asha Subbaiah\n",
            "116      Divesh Singh\n",
            "117      None\n",
            "118      Ganesh AlalaSundaram\n",
            "119      Srinu Naik\n",
            "120      Puneet Bhandari\n",
            "121      Aarti Pimplay\n",
            "122      Bangalore Tavarekere\n",
            "123      Avani Priya\n",
            "124      Sanand Pal\n",
            "125      Partho Sarathi\n",
            "126      Pranay Sathu\n",
            "127      Tanmoy Maity\n",
            "128      Aanirudh Razdan\n",
            "129      Shiksha Bhatnagar\n",
            "130      Chhaya Prabhale\n",
            "131      Karthik G\n",
            "132      Mohammed Murtuza\n",
            "133      Saurabh Saurabh\n",
            "134      Prabhu Prasad\n",
            "135      Raja Chandra\n",
            "136      Krishna Prasad\n",
            "137      Dushyant Bhatt\n",
            "138      Soumya Balan\n",
            "139      Uttar Pradesh\n",
            "140      Akansha Jain\n",
            "141      Madhya Pradesh\n",
            "142      Paul Rajiv\n",
            "143      Karan Turkar\n",
            "144      Akshay Dubey\n",
            "145      Sayani Goswami\n",
            "146      Sweety Garg\n",
            "147      Ramkrishan Bhatt\n",
            "148      B. Gokul\n",
            "149      Anand S\n",
            "150      Krishna Prasad\n",
            "151      Saurabh Sandhikar\n",
            "152      Priyesh Dubey\n",
            "153      Cluster HR\n",
            "154      Senior Executive\n",
            "155      Hemil Bhavsar\n",
            "156      Siddhartha Chetri\n",
            "157      Pratik Vaidya\n",
            "158      Ramakrishna Rao\n",
            "159      Keshav Dhawale\n",
            "160      Praveen Bhaskar\n",
            "161      Gunjan Nayyar\n",
            "162      Rupesh Reddy\n",
            "163      Escalation Specialist\n",
            "164      Kandrapu Reddy\n",
            "165      Store Executive\n",
            "166      Rahul Tayade\n",
            "167      Debasish Dasgupta\n",
            "168      Suresh Kanagala\n",
            "169      Jaspreet Kaur\n",
            "170      Somanath Behera\n",
            "171      Ashish Indoriya\n",
            "172      Dilliraja Baskaran\n",
            "173      Deepika S\n",
            "174      Jacob Philip\n",
            "175      Yogesh Ghatole\n",
            "176      Ajay Elango\n",
            "177      Shaik Tazuddin\n",
            "178      Angad Waghmare\n",
            "179      Sohan Dhakad\n",
            "180      Madhava Konjeti\n",
            "181      Shreya Agnihotri\n",
            "182      G4S Security\n",
            "183      Arpit Jain\n",
            "184      Palani S\n",
            "185      Meenalochani Kondya\n",
            "186      Shrinidhi Selva\n",
            "187      Mayank Shukla\n",
            "188      Shraddha Achar\n",
            "189      Arpit Godha\n",
            "190      Jatin Arora\n",
            "191      Karthik Gururaj\n",
            "192      Akila Mohideen\n",
            "193      Ahmad Bardolia\n",
            "194      Puran Mal\n",
            "195      Sridevi H\n",
            "196      Raktim Podder\n",
            "197      ADDITIONAL INFORMATION\n",
            "198      Infosys India\n",
            "199      Kiran Kumar\n",
            "200      None\n",
            "201      Microsoft Certified\n",
            "202      K. Siddharth\n",
            "203      Shivam Rathi\n",
            "204      Nitin Verma\n",
            "205      Customer Services\n",
            "206      Shivasai Mantri\n",
            "207      Prasanna Ignatius\n",
            "208      Pankaj Bhosale\n",
            "209      Vinay Singhal\n",
            "210      Pawan Nag\n",
            "211      Shivam Sharma\n",
            "212      Gaikwad Dilip\n",
            "213      Moumita Mitra\n",
            "214      SAP UI5\n",
            "215      Mansi Thanki\n",
            "216      Anil Kumar\n",
            "217      Siddharth Choudhary\n",
            "218      Valarmathi Dhandapani\n",
            "219      Pradeep Kumar\n"
          ],
          "name": "stdout"
        }
      ]
    },
    {
      "cell_type": "markdown",
      "metadata": {
        "id": "_LAa1c6JdvdA",
        "colab_type": "text"
      },
      "source": [
        "One example of misidentifying the name can be seen below, the model parses the resume and identifies in a wrong way the first two proper nouns.    "
      ]
    },
    {
      "cell_type": "code",
      "metadata": {
        "id": "_3JJyrvExV_5",
        "colab_type": "code",
        "outputId": "9f6429d5-1ab6-45ee-c027-b3252fea99c0",
        "colab": {
          "base_uri": "https://localhost:8080/",
          "height": 34
        }
      },
      "source": [
        "#the wrong extracted name\n",
        "extract_name_phrase_matcher(resumes_list[197])"
      ],
      "execution_count": 17,
      "outputs": [
        {
          "output_type": "execute_result",
          "data": {
            "text/plain": [
              "'ADDITIONAL INFORMATION'"
            ]
          },
          "metadata": {
            "tags": []
          },
          "execution_count": 17
        }
      ]
    },
    {
      "cell_type": "markdown",
      "metadata": {
        "id": "z361yz77gH_X",
        "colab_type": "text"
      },
      "source": [
        "The second aproach for extracting the name goes from the assumption that the name is right at the start of the resume on a diffrent row, witch in many cases is true. Therefore we split the resume in rows and extract the name as the content of the first row. The implementation is shown below."
      ]
    },
    {
      "cell_type": "code",
      "metadata": {
        "id": "2i6OJcSgxb6H",
        "colab_type": "code",
        "colab": {}
      },
      "source": [
        "def extract_name_split_text(resume_text):\n",
        "  return resume_text.split(\"\\n\")[0]"
      ],
      "execution_count": 0,
      "outputs": []
    },
    {
      "cell_type": "code",
      "metadata": {
        "id": "zah9uDPY4Wie",
        "colab_type": "code",
        "colab": {}
      },
      "source": [
        "names.clear()\n",
        "for resume in resumes_list:\n",
        "  names.append(extract_name_split_text(resume))"
      ],
      "execution_count": 0,
      "outputs": []
    },
    {
      "cell_type": "code",
      "metadata": {
        "id": "K_o280vT5FTx",
        "colab_type": "code",
        "outputId": "bf9142ad-65e2-4bf9-b5a0-e39c12e23346",
        "colab": {
          "base_uri": "https://localhost:8080/",
          "height": 1000
        }
      },
      "source": [
        "for i in range(0,len(names)):\n",
        "  print(i,\" \",names[i])"
      ],
      "execution_count": 20,
      "outputs": [
        {
          "output_type": "stream",
          "text": [
            "0   Abhishek Jha\n",
            "1   Afreen Jamadar\n",
            "2   Akhil Yadav Polemaina\n",
            "3   Alok Khandai\n",
            "4   Ananya Chavan\n",
            "5   Anvitha Rao\n",
            "6   arjun ks\n",
            "7   Arun Elumalai\n",
            "8   Ashalata Bisoyi\n",
            "9   Ashok Kunam\n",
            "10   Asish Ratha\n",
            "11   Avin Sharma\n",
            "12   Ayesha B\n",
            "13   Ayushi Srivastava\n",
            "14   Bhawana Daf\n",
            "15   Darshan G.\n",
            "16   Dhanushkodi Raj\n",
            "17   Dinesh Reddy\n",
            "18   Dipesh Gulati\n",
            "19   Dushyant Bhatt\n",
            "20   Govardhana K\n",
            "21   Harini Komaravelli\n",
            "22   Hartej Kathuria\n",
            "23   Ijas Nizamuddin\n",
            "24   Imgeeyaul Ansari\n",
            "25   Jay Madhavi\n",
            "26   Jitendra Babu\n",
            "27   Jyotirbindu Patnaik\n",
            "28   Karthihayini C\n",
            "29   Karthik GV\n",
            "30   Kartik Sharma\n",
            "31   Kasturika Borah\n",
            "32   Kavitha K\n",
            "33   Kavya U.\n",
            "34   Khushboo Choudhary\n",
            "35   kimaya sonawane\n",
            "36   Koushik Katta\n",
            "37   Kowsick Somasundaram\n",
            "38   Lakshika Neelakshi\n",
            "39   Madas Peddaiah\n",
            "40   Madhuri Sripathi\n",
            "41   Mahesh Vijay\n",
            "42   Manisha Bharti\n",
            "43   Manjari Singh\n",
            "44   Mohamed Ameen\n",
            "45   Mohini Gupta\n",
            "46   Navas Koya\n",
            "47   Navjyot Singh Rathore\n",
            "48   Nazish Alam\n",
            "49   Nidhi Pandit\n",
            "50   Nikhileshkumar Ikhar\n",
            "51   Nitin Tr\n",
            "52   Pradeeba V\n",
            "53   Prakriti Shaurya\n",
            "54   PRASHANTH BADALA\n",
            "55   Pratibha P\n",
            "56   Prem Koshti\n",
            "57   Pulkit Saxena\n",
            "58   Puneet Singh\n",
            "59   Rahul Bollu\n",
            "60   Rajeev Kumar\n",
            "61   Ram Edupuganti\n",
            "62   Ramesh HP\n",
            "63   Ramya. P\n",
            "64   R Arunravi\n",
            "65   Ravi Shankar\n",
            "66   Ravi Shivgond\n",
            "67   Rohit Bijlani\n",
            "68   Roshan Sinha\n",
            "69   Sai Dhir\n",
            "70   Sai Patha\n",
            "71   Sai Vivek Venkatraman\n",
            "72   Sameer Kujur\n",
            "73   Samyuktha Shivakumar\n",
            "74   Santosh Ganta\n",
            "75   Sarfaraz Ahmad\n",
            "76   Senthil Kumar\n",
            "77   Shabnam Saba\n",
            "78   Shaheen Unissa\n",
            "79   Sharan Adla\n",
            "80   Shreyanshu Gupta\n",
            "81   Shrishti Chauhan\n",
            "82   Shubham Mittal\n",
            "83   Sivaganesh Selvakumar\n",
            "84   Snehal Jadhav\n",
            "85   Soumya Balan\n",
            "86   Soumya Balan\n",
            "87   Sowmya Karanth\n",
            "88   Srabani Das\n",
            "89   Srinivas VO\n",
            "90   Srushti Bhadale\n",
            "91   Sudaya Puranik\n",
            "92   Sumit Kubade\n",
            "93   Syam Devendla\n",
            "94   Tejasri Gunnam\n",
            "95   Urshila Lohani\n",
            "96   Vamsi krishna\n",
            "97   VARUN AHLUWALIA\n",
            "98   Vijayalakshmi Govindarajan\n",
            "99   Vikas Singh\n",
            "100   Yasothai Jayaramachandran\n",
            "101   Yathishwaran P\n",
            "102   Yogi Pesaru\n",
            "103   Anurag Asthana\n",
            "104   Syed Sadath ali\n",
            "105   Nida Khan\n",
            "106   Fenil Francis\n",
            "107   Gaurav Soni\n",
            "108   Viny Khandelwal\n",
            "109   amarjyot sodhi\n",
            "110   Sameer Kujur\n",
            "111   Zaheer Uddin\n",
            "112   Abdul B\n",
            "113   Bike Rally\n",
            "114   Girish Acharya\n",
            "115   Asha Subbaiah\n",
            "116   Divesh Singh\n",
            "117   Ramesh chokkala\n",
            "118   Ganesh AlalaSundaram\n",
            "119   Srinu Naik Ramavath\n",
            "120   Puneet Bhandari\n",
            "121   Aarti Pimplay\n",
            "122   Bangalore Tavarekere\n",
            "123   Avani Priya\n",
            "124   Sanand Pal\n",
            "125   Partho Sarathi Mitra\n",
            "126   Pranay Sathu\n",
            "127   Tanmoy Maity\n",
            "128   Aanirudh Razdan\n",
            "129   Shiksha Bhatnagar\n",
            "130   Chhaya Prabhale\n",
            "131   Karthik G V\n",
            "132   Mohammed Murtuza\n",
            "133   Saurabh Saurabh\n",
            "134   Prabhu Prasad Mohapatra\n",
            "135   Raja Chandra Mouli\n",
            "136   Krishna Prasad\n",
            "137   Dushyant Bhatt\n",
            "138   Soumya Balan\n",
            "139   pradeep chauhan\n",
            "140   Akansha Jain\n",
            "141   Rishabh soni\n",
            "142   Paul Rajiv\n",
            "143   Karan Turkar\n",
            "144   Akshay Dubey\n",
            "145   Sayani Goswami\n",
            "146   Sweety Garg\n",
            "147   Ramkrishan Bhatt\n",
            "148   B. Gokul\n",
            "149   Anand S\n",
            "150   Krishna Prasad\n",
            "151   Saurabh Sandhikar\n",
            "152   Priyesh Dubey\n",
            "153   Laya A\n",
            "154   Vishwanath P\n",
            "155   Hemil Bhavsar\n",
            "156   Siddhartha Chetri\n",
            "157   Pratik Vaidya\n",
            "158   Ramakrishna Rao\n",
            "159   Keshav Dhawale\n",
            "160   Praveen Bhaskar\n",
            "161   Gunjan Nayyar\n",
            "162   Rupesh Reddy\n",
            "163   Puneeth R\n",
            "164   Kandrapu Reddy\n",
            "165   Vineeth Vijayan\n",
            "166   Rahul Tayade\n",
            "167   Debasish Dasgupta\n",
            "168   Suresh Kanagala\n",
            "169   Jaspreet Kaur\n",
            "170   Somanath Behera\n",
            "171   Ashish Indoriya\n",
            "172   Dilliraja Baskaran\n",
            "173   Deepika S\n",
            "174   Jacob Philip\n",
            "175   Yogesh Ghatole\n",
            "176   Ajay Elango\n",
            "177   Shaik Tazuddin\n",
            "178   Angad Waghmare\n",
            "179   Sohan Dhakad\n",
            "180   Madhava Konjeti\n",
            "181   Shreya Agnihotri\n",
            "182   Tapan kumar Nayak\n",
            "183   Arpit Jain\n",
            "184   Palani S\n",
            "185   Meenalochani Kondya\n",
            "186   Shrinidhi Selva Kumar\n",
            "187   Mayank Shukla\n",
            "188   Shraddha Achar\n",
            "189   Arpit Godha\n",
            "190   Jatin Arora\n",
            "191   Karthik Gururaj\n",
            "192   Akila Mohideen\n",
            "193   Ahmad Bardolia\n",
            "194   Puran Mal\n",
            "195   Sridevi H\n",
            "196   Raktim Podder\n",
            "197   Pavithra M\n",
            "198   shrikant desai\n",
            "199   Kiran Kumar\n",
            "200   Chaban kumar Debbarma\n",
            "201   Akash Gulhane\n",
            "202   K. Siddharth\n",
            "203   Shivam Rathi\n",
            "204   Nitin Verma\n",
            "205   Venkateswara D\n",
            "206   Shivasai Mantri\n",
            "207   Prasanna Ignatius\n",
            "208   Pankaj Bhosale\n",
            "209   Vinay Singhal\n",
            "210   Pawan Nag\n",
            "211   Shivam Sharma\n",
            "212   Gaikwad Dilip\n",
            "213   Moumita Mitra\n",
            "214   Suman Biswas\n",
            "215   Mansi Thanki\n",
            "216   Anil Kumar\n",
            "217   Siddharth Choudhary\n",
            "218   Valarmathi Dhandapani\n",
            "219   Pradeep Kumar\n"
          ],
          "name": "stdout"
        }
      ]
    },
    {
      "cell_type": "markdown",
      "metadata": {
        "id": "f8hmvr5ugovV",
        "colab_type": "text"
      },
      "source": [
        "The above list shows a better accuracy, however thats to be expected given the nature of the dataset. The solution is much more likely to generalize poorly on a larger and a more varied dataset. For this case we will keep the second aproach since it generated better results for our case."
      ]
    },
    {
      "cell_type": "code",
      "metadata": {
        "id": "J-hgWzm45KJn",
        "colab_type": "code",
        "outputId": "182c7e00-07b6-458f-dd0c-7d1282c8afd7",
        "colab": {
          "base_uri": "https://localhost:8080/",
          "height": 34
        }
      },
      "source": [
        "#the accurate extraction of the name, compared to the previous method\n",
        "print(names[197])"
      ],
      "execution_count": 21,
      "outputs": [
        {
          "output_type": "stream",
          "text": [
            "Pavithra M\n"
          ],
          "name": "stdout"
        }
      ]
    },
    {
      "cell_type": "markdown",
      "metadata": {
        "id": "SrQMSdmahL40",
        "colab_type": "text"
      },
      "source": [
        "With the names and the resumes known, the next step is creating the profiles list, witch will store all the profiles based on the resume. The creation and the population of the list can be seen below."
      ]
    },
    {
      "cell_type": "code",
      "metadata": {
        "id": "t_vdJQ3r5hbS",
        "colab_type": "code",
        "colab": {}
      },
      "source": [
        "profiles = []"
      ],
      "execution_count": 0,
      "outputs": []
    },
    {
      "cell_type": "code",
      "metadata": {
        "id": "fmhQJ8gI5pfm",
        "colab_type": "code",
        "colab": {}
      },
      "source": [
        "profiles.clear()\n",
        "for i in range(0,len(names)):\n",
        "  profile = Profile(names[i],resumes_list[i],None)\n",
        "  profiles.append(profile)"
      ],
      "execution_count": 0,
      "outputs": []
    },
    {
      "cell_type": "markdown",
      "metadata": {
        "id": "kAss-6KLmBS5",
        "colab_type": "text"
      },
      "source": [
        "We also add the names in the dataframe for better visualizing the data as can be seen below."
      ]
    },
    {
      "cell_type": "code",
      "metadata": {
        "id": "tZS1xO_R6AAS",
        "colab_type": "code",
        "colab": {}
      },
      "source": [
        "resumes_df[1] = names"
      ],
      "execution_count": 0,
      "outputs": []
    },
    {
      "cell_type": "code",
      "metadata": {
        "id": "XDIafjHl7cYN",
        "colab_type": "code",
        "outputId": "89140ad1-89c0-48e1-e8dd-37e86d612329",
        "colab": {
          "base_uri": "https://localhost:8080/",
          "height": 131
        }
      },
      "source": [
        "resumes_df.sample()"
      ],
      "execution_count": 49,
      "outputs": [
        {
          "output_type": "execute_result",
          "data": {
            "text/html": [
              "<div>\n",
              "<style scoped>\n",
              "    .dataframe tbody tr th:only-of-type {\n",
              "        vertical-align: middle;\n",
              "    }\n",
              "\n",
              "    .dataframe tbody tr th {\n",
              "        vertical-align: top;\n",
              "    }\n",
              "\n",
              "    .dataframe thead th {\n",
              "        text-align: right;\n",
              "    }\n",
              "</style>\n",
              "<table border=\"1\" class=\"dataframe\">\n",
              "  <thead>\n",
              "    <tr style=\"text-align: right;\">\n",
              "      <th></th>\n",
              "      <th>Name</th>\n",
              "      <th>Resume</th>\n",
              "      <th>Skills</th>\n",
              "      <th>Statistics</th>\n",
              "      <th>Machine Learning</th>\n",
              "      <th>Deep Learning</th>\n",
              "      <th>R Language</th>\n",
              "      <th>Python Language</th>\n",
              "      <th>NLP</th>\n",
              "      <th>Data Engineering</th>\n",
              "    </tr>\n",
              "  </thead>\n",
              "  <tbody>\n",
              "    <tr>\n",
              "      <th>145</th>\n",
              "      <td>Sayani Goswami</td>\n",
              "      <td>Sayani Goswami\\nI Phone solution Consultant\\n\\nKolkata, West Bengal - Email me on Indeed: indeed.com/r/Sayani-\\nGoswami/066e4d4956f82ee3\\n\\nWORK EXPERIENCE\\n\\nI Phone solution Consultant\\n\\n-\\n\\nO...</td>\n",
              "      <td>{'Statistics': [], 'Machine Learning': [], 'Deep Learning': [], 'R Language': [], 'Python Language': [], 'NLP': [], 'Data Engineering': []}</td>\n",
              "      <td>0</td>\n",
              "      <td>0</td>\n",
              "      <td>0</td>\n",
              "      <td>0</td>\n",
              "      <td>0</td>\n",
              "      <td>0</td>\n",
              "      <td>0</td>\n",
              "    </tr>\n",
              "  </tbody>\n",
              "</table>\n",
              "</div>"
            ],
            "text/plain": [
              "               Name  ... Data Engineering\n",
              "145  Sayani Goswami  ...                0\n",
              "\n",
              "[1 rows x 10 columns]"
            ]
          },
          "metadata": {
            "tags": []
          },
          "execution_count": 49
        }
      ]
    },
    {
      "cell_type": "markdown",
      "metadata": {
        "id": "I2uvYjrmmLS5",
        "colab_type": "text"
      },
      "source": [
        "The final step is represented by the skills extraction process. Every category and their respective keyword can be seen in Figure 7. It is important to remove the null values from the dataframe since pandas automaticly adds null values to the columns that have lower count of elements compared to the longest column to compensate the diffrence. Beacause of this we define a function that will tell us if an element is null or not."
      ]
    },
    {
      "cell_type": "code",
      "metadata": {
        "id": "F93DyWbACVRh",
        "colab_type": "code",
        "colab": {}
      },
      "source": [
        "def is_nan(x):\n",
        "  return x is np.nan or x != x\n"
      ],
      "execution_count": 0,
      "outputs": []
    },
    {
      "cell_type": "code",
      "metadata": {
        "id": "ss-8G9bk83Gs",
        "colab_type": "code",
        "outputId": "fe14cd40-69ce-432b-b533-e39d83081962",
        "colab": {
          "base_uri": "https://localhost:8080/",
          "height": 1000
        }
      },
      "source": [
        "#Figure 7. Every category and their specific keyowrds\n",
        "for category in categories.columns:\n",
        "  print(\"-----------\\n\",category,\"\\n-----------\")\n",
        "  for element in categories[category]:\n",
        "    if is_nan(element) == False:\n",
        "      print(element)"
      ],
      "execution_count": 27,
      "outputs": [
        {
          "output_type": "stream",
          "text": [
            "-----------\n",
            " Statistics \n",
            "-----------\n",
            "statistical models\n",
            "statistical modeling\n",
            "probability\n",
            "normal distribution\n",
            "poisson distribution\n",
            "survival models\n",
            "hypothesis testing\n",
            "bayesian inference\n",
            "factor analysis\n",
            "forecasting\n",
            "markov chain\n",
            "monte cario\n",
            "-----------\n",
            " Machine Learning \n",
            "-----------\n",
            "linear regression\n",
            "logistic regression\n",
            "K means\n",
            "random forest\n",
            "xgboost\n",
            "svm\n",
            "naive bayes\n",
            "pca\n",
            "decision tree\n",
            "svd\n",
            "ensemble models\n",
            "boltzman machine\n",
            "-----------\n",
            " Deep Learning \n",
            "-----------\n",
            "neural network\n",
            "keras\n",
            "theano\n",
            "face detection\n",
            "neural networls\n",
            "convolutional neural network(cnn)\n",
            "recurent neural network(RNN)\n",
            "object detection\n",
            "yolo\n",
            "gpu\n",
            "cuda\n",
            "tensorflow\n",
            "lstm\n",
            "gan\n",
            "opencv\n",
            "-----------\n",
            " R Language \n",
            "-----------\n",
            "ggplot\n",
            "shiny\n",
            "cran\n",
            "dplyr\n",
            "tidyr\n",
            "lubricate\n",
            "knitr\n",
            "-----------\n",
            " Python Language \n",
            "-----------\n",
            "python\n",
            "flask\n",
            "django\n",
            "pandas\n",
            "numpy\n",
            "scikitlearn\n",
            "sklearn\n",
            "matplotlib\n",
            "scipy\n",
            "bokeh\n",
            "statsmodel\n",
            "-----------\n",
            " NLP \n",
            "-----------\n",
            "nlp\n",
            "natural language processing\n",
            "topic modeling\n",
            "lda\n",
            "named entity recognition\n",
            "pos tagging\n",
            "word2vec\n",
            "word embedding\n",
            "lsi\n",
            "spacy\n",
            "genism\n",
            "nltk\n",
            "nmf\n",
            "doc2vec\n",
            "cbow\n",
            "bag of words\n",
            "skip gram\n",
            "bert\n",
            "sentiment analysis\n",
            "chat bot\n",
            "-----------\n",
            " Data Engineering \n",
            "-----------\n",
            "aws\n",
            "ec2\n",
            "amazon redshift\n",
            "s3\n",
            "docker\n",
            "kubernets\n",
            "scala\n",
            "teradata\n",
            "google big query\n",
            "aws lambda\n",
            "aws emr\n",
            "hive\n",
            "hadoop\n",
            "sql\n"
          ],
          "name": "stdout"
        }
      ]
    },
    {
      "cell_type": "markdown",
      "metadata": {
        "id": "YvZOuDLcoCj2",
        "colab_type": "text"
      },
      "source": [
        "To extract the skills of every candidate we iterate through every category of skills, creating a list composed from their specific keywords. This list will be used by the PhraseMatcher to eficiently match the terms that we are looking for with the resume. The candidates information is stored in a dictionary in with the following structure:\n",
        ">-the keys are represented by the categories  \n",
        ">-the values of those keys are represented by a list of all matched terms from the resume\n",
        "After the dictionary is created, we return it, as can be seen in Figure 8."
      ]
    },
    {
      "cell_type": "code",
      "metadata": {
        "id": "OySywTG2CcBm",
        "colab_type": "code",
        "colab": {}
      },
      "source": [
        "#Figure 8. The implementation of the skill extraction alghoritm\n",
        "def get_skills(resume):\n",
        "  skills = {}\n",
        "  doc = nlp(resume)\n",
        "\n",
        "  \n",
        "  for category in categories:\n",
        "    matched_skills = []\n",
        "    terms = [term for term in categories[category] if is_nan(term) == False]\n",
        "    patterns = [nlp.make_doc(text) for text in terms]\n",
        "    matcher = PhraseMatcher(nlp.vocab,attr=\"LOWER\")\n",
        "    matcher.add(\"TerminologyList\", None, *patterns)\n",
        "    matches = matcher(doc)\n",
        "    \n",
        "    for match_id, start, end in matches:\n",
        "      span = doc[start:end]\n",
        "      matched_skills.append(span)\n",
        "    skills[category] = matched_skills\n",
        "  return skills \n"
      ],
      "execution_count": 0,
      "outputs": []
    },
    {
      "cell_type": "markdown",
      "metadata": {
        "id": "JRUnTGD7sj_C",
        "colab_type": "text"
      },
      "source": [
        "We add the skills to the dataframe and add some modifications of the aspect to better understand the content of the dataframe."
      ]
    },
    {
      "cell_type": "code",
      "metadata": {
        "id": "jQrxylSRItTQ",
        "colab_type": "code",
        "outputId": "ffd2efb3-8f5f-40e9-b22d-b0c77d537939",
        "colab": {
          "base_uri": "https://localhost:8080/",
          "height": 182
        }
      },
      "source": [
        "skills_list = [candidate.get_skills() for candidate in profiles]\n",
        "skills_list\n",
        "resumes_df[2] = skills_list\n",
        "resumes_df.sample()"
      ],
      "execution_count": 29,
      "outputs": [
        {
          "output_type": "execute_result",
          "data": {
            "text/html": [
              "<div>\n",
              "<style scoped>\n",
              "    .dataframe tbody tr th:only-of-type {\n",
              "        vertical-align: middle;\n",
              "    }\n",
              "\n",
              "    .dataframe tbody tr th {\n",
              "        vertical-align: top;\n",
              "    }\n",
              "\n",
              "    .dataframe thead th {\n",
              "        text-align: right;\n",
              "    }\n",
              "</style>\n",
              "<table border=\"1\" class=\"dataframe\">\n",
              "  <thead>\n",
              "    <tr style=\"text-align: right;\">\n",
              "      <th></th>\n",
              "      <th>0</th>\n",
              "      <th>1</th>\n",
              "      <th>2</th>\n",
              "    </tr>\n",
              "  </thead>\n",
              "  <tbody>\n",
              "    <tr>\n",
              "      <th>133</th>\n",
              "      <td>Saurabh Saurabh\\nBengaluru, Karnataka - Email me on Indeed: indeed.com/r/Saurabh-\\nSaurabh/87e6b26903460061\\n\\nWilling to relocate: Anywhere\\n\\nWORK EXPERIENCE\\n\\nDeveloper Support Engineer\\n\\nMicrosoft iGTSC -  Bangalore Urban, Karnataka -\\n\\nAugust 2007 to Present\\n\\nEDUCATION\\n\\nCertificate of Achievement\\n\\nMicrosoft Virtual Academy\\n\\nDecember 2016\\n\\nSKILLS\\n\\nC, C++, Data Structure, Java (1 year)\\n\\nADDITIONAL INFORMATION\\n\\n➢ Managerial Skills: Organizer and volunteer at many inter and intra college events, symposia\\netc. in\\ncollege.\\n➢ Co-curricular: -\\n1. Selected by College (TISL) to train the first-year engineering students under the Finishing\\nSchool\\nProgram (January 2017)\\n2. District level soccer and cricket player.\\n3. Honored at State Level Singing competition; Performed in college.\\n\\n➢ Leadership Skills: Effective leadership; associated with many student led organizations;\\nStudent leader\\nfor Oxygen, A movement for and by Students (2007 &amp;amp; 2009)\\n\\nDECLARATION\\n\\nThe abovementioned is true to the best of my knowledge, information and personal belief.\\nPlace: Bangalore.\\n\\nhttps://www.indeed.com/r/Saurabh-Saurabh/87e6b26903460061?isid=rex-download&amp;ikw=download-top&amp;co=IN\\nhttps://www.indeed.com/r/Saurabh-Saurabh/87e6b26903460061?isid=rex-download&amp;ikw=download-top&amp;co=IN</td>\n",
              "      <td>Saurabh Saurabh</td>\n",
              "      <td>None</td>\n",
              "    </tr>\n",
              "  </tbody>\n",
              "</table>\n",
              "</div>"
            ],
            "text/plain": [
              "                                                                                                                                                                                                                                                                                                                                                                                                                                                                                                                                                                                                                                                                                                                                                                                                                                                                                                                                                                                                                                                                                                                                                                                                                                                                                                                                                                    0  ...     2\n",
              "133  Saurabh Saurabh\\nBengaluru, Karnataka - Email me on Indeed: indeed.com/r/Saurabh-\\nSaurabh/87e6b26903460061\\n\\nWilling to relocate: Anywhere\\n\\nWORK EXPERIENCE\\n\\nDeveloper Support Engineer\\n\\nMicrosoft iGTSC -  Bangalore Urban, Karnataka -\\n\\nAugust 2007 to Present\\n\\nEDUCATION\\n\\nCertificate of Achievement\\n\\nMicrosoft Virtual Academy\\n\\nDecember 2016\\n\\nSKILLS\\n\\nC, C++, Data Structure, Java (1 year)\\n\\nADDITIONAL INFORMATION\\n\\n➢ Managerial Skills: Organizer and volunteer at many inter and intra college events, symposia\\netc. in\\ncollege.\\n➢ Co-curricular: -\\n1. Selected by College (TISL) to train the first-year engineering students under the Finishing\\nSchool\\nProgram (January 2017)\\n2. District level soccer and cricket player.\\n3. Honored at State Level Singing competition; Performed in college.\\n\\n➢ Leadership Skills: Effective leadership; associated with many student led organizations;\\nStudent leader\\nfor Oxygen, A movement for and by Students (2007 &amp; 2009)\\n\\nDECLARATION\\n\\nThe abovementioned is true to the best of my knowledge, information and personal belief.\\nPlace: Bangalore.\\n\\nhttps://www.indeed.com/r/Saurabh-Saurabh/87e6b26903460061?isid=rex-download&ikw=download-top&co=IN\\nhttps://www.indeed.com/r/Saurabh-Saurabh/87e6b26903460061?isid=rex-download&ikw=download-top&co=IN  ...  None\n",
              "\n",
              "[1 rows x 3 columns]"
            ]
          },
          "metadata": {
            "tags": []
          },
          "execution_count": 29
        }
      ]
    },
    {
      "cell_type": "code",
      "metadata": {
        "id": "JVtyOvP0ISG6",
        "colab_type": "code",
        "outputId": "9b31ff96-6936-44fd-85f7-f70a7cb3bbe7",
        "colab": {
          "base_uri": "https://localhost:8080/",
          "height": 80
        }
      },
      "source": [
        "resumes_df.rename(columns = {0:\"Resume\",1:\"Name\",2:\"Skills\"},inplace=True)\n",
        "pd.set_option('display.max_colwidth', 200)\n",
        "resumes_df = resumes_df[[\"Name\", \"Resume\", \"Skills\"]]\n",
        "resumes_df.sample()"
      ],
      "execution_count": 30,
      "outputs": [
        {
          "output_type": "execute_result",
          "data": {
            "text/html": [
              "<div>\n",
              "<style scoped>\n",
              "    .dataframe tbody tr th:only-of-type {\n",
              "        vertical-align: middle;\n",
              "    }\n",
              "\n",
              "    .dataframe tbody tr th {\n",
              "        vertical-align: top;\n",
              "    }\n",
              "\n",
              "    .dataframe thead th {\n",
              "        text-align: right;\n",
              "    }\n",
              "</style>\n",
              "<table border=\"1\" class=\"dataframe\">\n",
              "  <thead>\n",
              "    <tr style=\"text-align: right;\">\n",
              "      <th></th>\n",
              "      <th>Name</th>\n",
              "      <th>Resume</th>\n",
              "      <th>Skills</th>\n",
              "    </tr>\n",
              "  </thead>\n",
              "  <tbody>\n",
              "    <tr>\n",
              "      <th>53</th>\n",
              "      <td>Prakriti Shaurya</td>\n",
              "      <td>Prakriti Shaurya\\nSenior System Engineer - Infosys Limited\\n\\nMangalore, Karnataka - Email me on Indeed: indeed.com/r/Prakriti-\\nShaurya/5339383f9294887e\\n\\nDetail-oriented individual with three y...</td>\n",
              "      <td>None</td>\n",
              "    </tr>\n",
              "  </tbody>\n",
              "</table>\n",
              "</div>"
            ],
            "text/plain": [
              "                Name  ... Skills\n",
              "53  Prakriti Shaurya  ...   None\n",
              "\n",
              "[1 rows x 3 columns]"
            ]
          },
          "metadata": {
            "tags": []
          },
          "execution_count": 30
        }
      ]
    },
    {
      "cell_type": "markdown",
      "metadata": {
        "id": "nrXdLZzdqLSe",
        "colab_type": "text"
      },
      "source": [
        "Using the previous presented alghoritm, we extract the skills of every candidate, adding them into their profiles, in the profiles list.\n",
        "The process and the output of the skills extraction process can be seen in Figure 9."
      ]
    },
    {
      "cell_type": "code",
      "metadata": {
        "id": "3wpb9KPAE5Fz",
        "colab_type": "code",
        "outputId": "f3c6c4cd-6fe0-4bf8-e052-699d96707366",
        "colab": {
          "base_uri": "https://localhost:8080/",
          "height": 1000
        }
      },
      "source": [
        "#Figure 9. The results of the skill extraction process\n",
        "i = 0\n",
        "for resume in resumes_list:\n",
        "  skills = get_skills(resume)\n",
        "  print(skills)\n",
        "  profiles[i].set_skills(skills)\n",
        "  i+=1"
      ],
      "execution_count": 31,
      "outputs": [
        {
          "output_type": "stream",
          "text": [
            "{'Statistics': [], 'Machine Learning': [], 'Deep Learning': [], 'R Language': [], 'Python Language': [], 'NLP': [], 'Data Engineering': []}\n",
            "{'Statistics': [], 'Machine Learning': [], 'Deep Learning': [], 'R Language': [], 'Python Language': [], 'NLP': [], 'Data Engineering': [SQL]}\n",
            "{'Statistics': [], 'Machine Learning': [], 'Deep Learning': [], 'R Language': [], 'Python Language': [], 'NLP': [], 'Data Engineering': [Teradata, Teradata, SQL, Teradata, SQL]}\n",
            "{'Statistics': [], 'Machine Learning': [], 'Deep Learning': [], 'R Language': [], 'Python Language': [], 'NLP': [], 'Data Engineering': [SQL, SQL, SQL, SQL, SQL, SQL, SQL, SQL, SQL, SQL, SQL, SQL, SQL, SQL, SQL, SQL, SQL, SQL, SQL, SQL, SQL, SQL, SQL, SQL, SQL, SQL, SQL, SQL, SQL, SQL, SQL, SQL, SQL, SQL, SQL, SQL, SQL, SQL, Sql, SQL, SQL, SQL, SQL]}\n",
            "{'Statistics': [], 'Machine Learning': [], 'Deep Learning': [], 'R Language': [], 'Python Language': [], 'NLP': [], 'Data Engineering': []}\n",
            "{'Statistics': [], 'Machine Learning': [], 'Deep Learning': [], 'R Language': [], 'Python Language': [python, pandas, Python], 'NLP': [Natural Language processing], 'Data Engineering': [Hadoop, Scala, S3, EC2, Hadoop, HADOOP, Hadoop]}\n",
            "{'Statistics': [], 'Machine Learning': [], 'Deep Learning': [], 'R Language': [], 'Python Language': [], 'NLP': [], 'Data Engineering': []}\n",
            "{'Statistics': [], 'Machine Learning': [], 'Deep Learning': [], 'R Language': [], 'Python Language': [PYTHON, Python], 'NLP': [], 'Data Engineering': []}\n",
            "{'Statistics': [], 'Machine Learning': [], 'Deep Learning': [], 'R Language': [], 'Python Language': [], 'NLP': [], 'Data Engineering': []}\n",
            "{'Statistics': [], 'Machine Learning': [], 'Deep Learning': [], 'R Language': [], 'Python Language': [], 'NLP': [], 'Data Engineering': [SQL, SQL, SQL, SQL]}\n",
            "{'Statistics': [], 'Machine Learning': [], 'Deep Learning': [], 'R Language': [], 'Python Language': [], 'NLP': [], 'Data Engineering': []}\n",
            "{'Statistics': [], 'Machine Learning': [], 'Deep Learning': [], 'R Language': [], 'Python Language': [], 'NLP': [], 'Data Engineering': []}\n",
            "{'Statistics': [], 'Machine Learning': [], 'Deep Learning': [], 'R Language': [], 'Python Language': [], 'NLP': [], 'Data Engineering': [SQL]}\n",
            "{'Statistics': [], 'Machine Learning': [], 'Deep Learning': [], 'R Language': [], 'Python Language': [], 'NLP': [], 'Data Engineering': []}\n",
            "{'Statistics': [], 'Machine Learning': [], 'Deep Learning': [], 'R Language': [], 'Python Language': [], 'NLP': [], 'Data Engineering': []}\n",
            "{'Statistics': [], 'Machine Learning': [], 'Deep Learning': [], 'R Language': [], 'Python Language': [], 'NLP': [], 'Data Engineering': []}\n",
            "{'Statistics': [], 'Machine Learning': [], 'Deep Learning': [], 'R Language': [], 'Python Language': [], 'NLP': [], 'Data Engineering': [SQL, SQL, SQL, SQL, SQL, SQL, SQL, SQL, SQL, SQL, SQL]}\n",
            "{'Statistics': [], 'Machine Learning': [], 'Deep Learning': [], 'R Language': [], 'Python Language': [], 'NLP': [], 'Data Engineering': [Docker, AWS, Docker, AWS, SQL, AWS, AWS, docker]}\n",
            "{'Statistics': [], 'Machine Learning': [], 'Deep Learning': [], 'R Language': [], 'Python Language': [], 'NLP': [], 'Data Engineering': [SQL, SQL, SQL]}\n",
            "{'Statistics': [], 'Machine Learning': [], 'Deep Learning': [], 'R Language': [], 'Python Language': [], 'NLP': [], 'Data Engineering': [SQL, SQL, SQL, SQL, SQL, SQL]}\n",
            "{'Statistics': [], 'Machine Learning': [], 'Deep Learning': [], 'R Language': [], 'Python Language': [], 'NLP': [], 'Data Engineering': [SQL, SQL, SQL, SQL]}\n",
            "{'Statistics': [], 'Machine Learning': [], 'Deep Learning': [], 'R Language': [], 'Python Language': [], 'NLP': [], 'Data Engineering': [SQL]}\n",
            "{'Statistics': [Forecasting, Probability], 'Machine Learning': [], 'Deep Learning': [], 'R Language': [], 'Python Language': [Python, Python, Python], 'NLP': [], 'Data Engineering': [SQL, SQL, SQL, SQL, SQL, SQL]}\n",
            "{'Statistics': [], 'Machine Learning': [], 'Deep Learning': [], 'R Language': [], 'Python Language': [], 'NLP': [], 'Data Engineering': []}\n",
            "{'Statistics': [], 'Machine Learning': [], 'Deep Learning': [], 'R Language': [], 'Python Language': [], 'NLP': [], 'Data Engineering': [Sql]}\n",
            "{'Statistics': [], 'Machine Learning': [], 'Deep Learning': [], 'R Language': [], 'Python Language': [], 'NLP': [], 'Data Engineering': [SQL]}\n",
            "{'Statistics': [], 'Machine Learning': [], 'Deep Learning': [], 'R Language': [], 'Python Language': [], 'NLP': [], 'Data Engineering': []}\n",
            "{'Statistics': [], 'Machine Learning': [], 'Deep Learning': [], 'R Language': [], 'Python Language': [], 'NLP': [], 'Data Engineering': []}\n",
            "{'Statistics': [], 'Machine Learning': [], 'Deep Learning': [], 'R Language': [], 'Python Language': [], 'NLP': [], 'Data Engineering': []}\n",
            "{'Statistics': [forecasting], 'Machine Learning': [], 'Deep Learning': [], 'R Language': [], 'Python Language': [], 'NLP': [], 'Data Engineering': [SQL, SQL, SQL, SQL, SQL, SQL, SQL, SQL, SQL]}\n",
            "{'Statistics': [], 'Machine Learning': [], 'Deep Learning': [], 'R Language': [], 'Python Language': [], 'NLP': [], 'Data Engineering': [SQL]}\n",
            "{'Statistics': [], 'Machine Learning': [], 'Deep Learning': [], 'R Language': [], 'Python Language': [Python, Python, Python, Python], 'NLP': [], 'Data Engineering': [SQL, SQL, SQL, SQL, SQL, sql]}\n",
            "{'Statistics': [], 'Machine Learning': [], 'Deep Learning': [], 'R Language': [], 'Python Language': [], 'NLP': [], 'Data Engineering': []}\n",
            "{'Statistics': [], 'Machine Learning': [], 'Deep Learning': [], 'R Language': [], 'Python Language': [], 'NLP': [], 'Data Engineering': []}\n",
            "{'Statistics': [], 'Machine Learning': [], 'Deep Learning': [], 'R Language': [], 'Python Language': [], 'NLP': [], 'Data Engineering': []}\n",
            "{'Statistics': [], 'Machine Learning': [], 'Deep Learning': [], 'R Language': [], 'Python Language': [], 'NLP': [], 'Data Engineering': []}\n",
            "{'Statistics': [], 'Machine Learning': [], 'Deep Learning': [], 'R Language': [], 'Python Language': [Python, Python], 'NLP': [], 'Data Engineering': [AWS, Docker, Docker, Docker, AWS]}\n",
            "{'Statistics': [], 'Machine Learning': [], 'Deep Learning': [], 'R Language': [], 'Python Language': [], 'NLP': [], 'Data Engineering': []}\n",
            "{'Statistics': [], 'Machine Learning': [], 'Deep Learning': [], 'R Language': [], 'Python Language': [], 'NLP': [], 'Data Engineering': []}\n",
            "{'Statistics': [], 'Machine Learning': [], 'Deep Learning': [], 'R Language': [], 'Python Language': [], 'NLP': [], 'Data Engineering': [SQL, SQL]}\n",
            "{'Statistics': [], 'Machine Learning': [], 'Deep Learning': [], 'R Language': [], 'Python Language': [Python, python, Python, Python, python, python], 'NLP': [], 'Data Engineering': []}\n",
            "{'Statistics': [], 'Machine Learning': [], 'Deep Learning': [], 'R Language': [], 'Python Language': [], 'NLP': [], 'Data Engineering': []}\n",
            "{'Statistics': [], 'Machine Learning': [], 'Deep Learning': [], 'R Language': [], 'Python Language': [], 'NLP': [], 'Data Engineering': [SQL, SQL, SQL, SQL, SQL, SQL, SQL, SQL]}\n",
            "{'Statistics': [], 'Machine Learning': [], 'Deep Learning': [], 'R Language': [], 'Python Language': [], 'NLP': [], 'Data Engineering': [SQL]}\n",
            "{'Statistics': [], 'Machine Learning': [], 'Deep Learning': [], 'R Language': [], 'Python Language': [], 'NLP': [], 'Data Engineering': []}\n",
            "{'Statistics': [], 'Machine Learning': [], 'Deep Learning': [], 'R Language': [], 'Python Language': [], 'NLP': [], 'Data Engineering': [SQL, sql]}\n",
            "{'Statistics': [], 'Machine Learning': [], 'Deep Learning': [], 'R Language': [], 'Python Language': [], 'NLP': [], 'Data Engineering': [SQL, Sql]}\n",
            "{'Statistics': [], 'Machine Learning': [], 'Deep Learning': [], 'R Language': [], 'Python Language': [], 'NLP': [], 'Data Engineering': []}\n",
            "{'Statistics': [], 'Machine Learning': [], 'Deep Learning': [], 'R Language': [], 'Python Language': [], 'NLP': [], 'Data Engineering': [SQL]}\n",
            "{'Statistics': [], 'Machine Learning': [], 'Deep Learning': [], 'R Language': [], 'Python Language': [], 'NLP': [], 'Data Engineering': [SQL, SQL, SQL, SQL]}\n",
            "{'Statistics': [], 'Machine Learning': [], 'Deep Learning': [], 'R Language': [], 'Python Language': [Python, Django, Python, Django, Django, Python, Python, Django], 'NLP': [], 'Data Engineering': [Hadoop]}\n",
            "{'Statistics': [], 'Machine Learning': [], 'Deep Learning': [], 'R Language': [], 'Python Language': [], 'NLP': [], 'Data Engineering': [Sql, Sql]}\n",
            "{'Statistics': [], 'Machine Learning': [], 'Deep Learning': [], 'R Language': [], 'Python Language': [], 'NLP': [], 'Data Engineering': []}\n",
            "{'Statistics': [], 'Machine Learning': [], 'Deep Learning': [], 'R Language': [], 'Python Language': [], 'NLP': [], 'Data Engineering': [Sql]}\n",
            "{'Statistics': [], 'Machine Learning': [], 'Deep Learning': [], 'R Language': [], 'Python Language': [Python], 'NLP': [], 'Data Engineering': [AWS, EC2, Docker, Docker, AWS, Aws, AWS, AWS, Docker, AWS, EC2, Docker, Docker, AWS, Docker, AWS]}\n",
            "{'Statistics': [forecasting], 'Machine Learning': [], 'Deep Learning': [], 'R Language': [], 'Python Language': [], 'NLP': [], 'Data Engineering': [SQL, SQL, SQL, SQL, SQL, SQL]}\n",
            "{'Statistics': [], 'Machine Learning': [], 'Deep Learning': [], 'R Language': [], 'Python Language': [], 'NLP': [], 'Data Engineering': []}\n",
            "{'Statistics': [], 'Machine Learning': [], 'Deep Learning': [], 'R Language': [], 'Python Language': [], 'NLP': [], 'Data Engineering': [SQL]}\n",
            "{'Statistics': [], 'Machine Learning': [], 'Deep Learning': [], 'R Language': [], 'Python Language': [python, python, Python], 'NLP': [], 'Data Engineering': []}\n",
            "{'Statistics': [], 'Machine Learning': [], 'Deep Learning': [], 'R Language': [], 'Python Language': [], 'NLP': [], 'Data Engineering': [AWS, EC2, S3, AWS, AWS, Docker, AWS, AWS, AWS, EC2, Docker, AWS, AWS, AWS, AWS, EC2, AWS, docker, AWS, Docker]}\n",
            "{'Statistics': [], 'Machine Learning': [], 'Deep Learning': [], 'R Language': [], 'Python Language': [], 'NLP': [], 'Data Engineering': []}\n",
            "{'Statistics': [], 'Machine Learning': [], 'Deep Learning': [], 'R Language': [], 'Python Language': [Python], 'NLP': [NLP, chat bot], 'Data Engineering': [SQL, SQL, SQL]}\n",
            "{'Statistics': [Forecasting], 'Machine Learning': [], 'Deep Learning': [], 'R Language': [], 'Python Language': [], 'NLP': [], 'Data Engineering': []}\n",
            "{'Statistics': [], 'Machine Learning': [], 'Deep Learning': [], 'R Language': [], 'Python Language': [], 'NLP': [], 'Data Engineering': [SQL]}\n",
            "{'Statistics': [], 'Machine Learning': [], 'Deep Learning': [], 'R Language': [], 'Python Language': [], 'NLP': [], 'Data Engineering': [S3, SQL]}\n",
            "{'Statistics': [], 'Machine Learning': [], 'Deep Learning': [], 'R Language': [], 'Python Language': [], 'NLP': [], 'Data Engineering': [SQL]}\n",
            "{'Statistics': [], 'Machine Learning': [], 'Deep Learning': [], 'R Language': [], 'Python Language': [], 'NLP': [], 'Data Engineering': []}\n",
            "{'Statistics': [], 'Machine Learning': [], 'Deep Learning': [], 'R Language': [], 'Python Language': [], 'NLP': [], 'Data Engineering': [SQL, Sql, SQL]}\n",
            "{'Statistics': [], 'Machine Learning': [], 'Deep Learning': [], 'R Language': [], 'Python Language': [], 'NLP': [], 'Data Engineering': []}\n",
            "{'Statistics': [], 'Machine Learning': [], 'Deep Learning': [], 'R Language': [], 'Python Language': [], 'NLP': [], 'Data Engineering': []}\n",
            "{'Statistics': [], 'Machine Learning': [], 'Deep Learning': [], 'R Language': [], 'Python Language': [], 'NLP': [], 'Data Engineering': [SQL, SQL, SQL, SQL, SQL, SQL, Sql, SQL, SQL, SQL]}\n",
            "{'Statistics': [], 'Machine Learning': [], 'Deep Learning': [], 'R Language': [], 'Python Language': [], 'NLP': [], 'Data Engineering': []}\n",
            "{'Statistics': [], 'Machine Learning': [], 'Deep Learning': [], 'R Language': [], 'Python Language': [], 'NLP': [], 'Data Engineering': []}\n",
            "{'Statistics': [], 'Machine Learning': [], 'Deep Learning': [], 'R Language': [], 'Python Language': [], 'NLP': [], 'Data Engineering': []}\n",
            "{'Statistics': [], 'Machine Learning': [], 'Deep Learning': [], 'R Language': [], 'Python Language': [], 'NLP': [], 'Data Engineering': [SQL]}\n",
            "{'Statistics': [], 'Machine Learning': [], 'Deep Learning': [], 'R Language': [], 'Python Language': [], 'NLP': [], 'Data Engineering': []}\n",
            "{'Statistics': [], 'Machine Learning': [], 'Deep Learning': [], 'R Language': [], 'Python Language': [], 'NLP': [], 'Data Engineering': []}\n",
            "{'Statistics': [], 'Machine Learning': [], 'Deep Learning': [], 'R Language': [], 'Python Language': [], 'NLP': [], 'Data Engineering': []}\n",
            "{'Statistics': [], 'Machine Learning': [], 'Deep Learning': [], 'R Language': [], 'Python Language': [], 'NLP': [], 'Data Engineering': []}\n",
            "{'Statistics': [], 'Machine Learning': [], 'Deep Learning': [], 'R Language': [], 'Python Language': [], 'NLP': [], 'Data Engineering': []}\n",
            "{'Statistics': [], 'Machine Learning': [], 'Deep Learning': [], 'R Language': [], 'Python Language': [], 'NLP': [], 'Data Engineering': [SQL, SQL]}\n",
            "{'Statistics': [], 'Machine Learning': [], 'Deep Learning': [], 'R Language': [], 'Python Language': [], 'NLP': [], 'Data Engineering': [SQL]}\n",
            "{'Statistics': [], 'Machine Learning': [], 'Deep Learning': [], 'R Language': [], 'Python Language': [], 'NLP': [], 'Data Engineering': [SQL]}\n",
            "{'Statistics': [], 'Machine Learning': [], 'Deep Learning': [], 'R Language': [], 'Python Language': [], 'NLP': [], 'Data Engineering': [SQL]}\n",
            "{'Statistics': [], 'Machine Learning': [], 'Deep Learning': [], 'R Language': [], 'Python Language': [], 'NLP': [], 'Data Engineering': []}\n",
            "{'Statistics': [], 'Machine Learning': [], 'Deep Learning': [], 'R Language': [], 'Python Language': [], 'NLP': [], 'Data Engineering': []}\n",
            "{'Statistics': [], 'Machine Learning': [], 'Deep Learning': [], 'R Language': [], 'Python Language': [], 'NLP': [], 'Data Engineering': []}\n",
            "{'Statistics': [], 'Machine Learning': [], 'Deep Learning': [], 'R Language': [], 'Python Language': [], 'NLP': [], 'Data Engineering': [SQL]}\n",
            "{'Statistics': [], 'Machine Learning': [], 'Deep Learning': [], 'R Language': [], 'Python Language': [], 'NLP': [], 'Data Engineering': [Teradata, TERADATA, Teradata, SQL, SQL, Teradata, SQL, SQL, Teradata, Teradata, Teradata]}\n",
            "{'Statistics': [], 'Machine Learning': [], 'Deep Learning': [], 'R Language': [], 'Python Language': [], 'NLP': [], 'Data Engineering': [SQL, Amazon RedShift, Scala, AWS]}\n",
            "{'Statistics': [], 'Machine Learning': [], 'Deep Learning': [], 'R Language': [], 'Python Language': [], 'NLP': [], 'Data Engineering': [SQL]}\n",
            "{'Statistics': [], 'Machine Learning': [], 'Deep Learning': [], 'R Language': [], 'Python Language': [], 'NLP': [], 'Data Engineering': [SQL, SQL, SQL, SQL]}\n",
            "{'Statistics': [], 'Machine Learning': [], 'Deep Learning': [], 'R Language': [], 'Python Language': [], 'NLP': [], 'Data Engineering': []}\n",
            "{'Statistics': [], 'Machine Learning': [], 'Deep Learning': [], 'R Language': [], 'Python Language': [], 'NLP': [], 'Data Engineering': [HADOOP, Hive, Hadoop, Scala, Hadoop, Hadoop, Hadoop]}\n",
            "{'Statistics': [], 'Machine Learning': [], 'Deep Learning': [], 'R Language': [], 'Python Language': [Python], 'NLP': [], 'Data Engineering': [SQL]}\n",
            "{'Statistics': [], 'Machine Learning': [], 'Deep Learning': [], 'R Language': [], 'Python Language': [], 'NLP': [], 'Data Engineering': []}\n",
            "{'Statistics': [], 'Machine Learning': [], 'Deep Learning': [], 'R Language': [], 'Python Language': [], 'NLP': [], 'Data Engineering': []}\n",
            "{'Statistics': [], 'Machine Learning': [], 'Deep Learning': [], 'R Language': [], 'Python Language': [], 'NLP': [], 'Data Engineering': [SQL]}\n",
            "{'Statistics': [], 'Machine Learning': [], 'Deep Learning': [], 'R Language': [], 'Python Language': [], 'NLP': [], 'Data Engineering': [SQL, SQL]}\n",
            "{'Statistics': [], 'Machine Learning': [], 'Deep Learning': [], 'R Language': [], 'Python Language': [Python, Python, Python, Python, Python], 'NLP': [], 'Data Engineering': [SQL]}\n",
            "{'Statistics': [], 'Machine Learning': [], 'Deep Learning': [], 'R Language': [], 'Python Language': [Python, Python, Python, Python, Python, Python, Python, Python, Python, Python], 'NLP': [], 'Data Engineering': [SQL]}\n",
            "{'Statistics': [], 'Machine Learning': [], 'Deep Learning': [], 'R Language': [], 'Python Language': [], 'NLP': [], 'Data Engineering': [SQL, SQL]}\n",
            "{'Statistics': [], 'Machine Learning': [], 'Deep Learning': [], 'R Language': [], 'Python Language': [], 'NLP': [], 'Data Engineering': [SQL, SQL]}\n",
            "{'Statistics': [], 'Machine Learning': [], 'Deep Learning': [], 'R Language': [], 'Python Language': [], 'NLP': [], 'Data Engineering': [SQL, SQL, SQL]}\n",
            "{'Statistics': [], 'Machine Learning': [], 'Deep Learning': [], 'R Language': [], 'Python Language': [], 'NLP': [], 'Data Engineering': []}\n",
            "{'Statistics': [], 'Machine Learning': [], 'Deep Learning': [], 'R Language': [], 'Python Language': [], 'NLP': [], 'Data Engineering': []}\n",
            "{'Statistics': [], 'Machine Learning': [], 'Deep Learning': [], 'R Language': [], 'Python Language': [], 'NLP': [], 'Data Engineering': []}\n",
            "{'Statistics': [], 'Machine Learning': [], 'Deep Learning': [], 'R Language': [], 'Python Language': [], 'NLP': [NLP], 'Data Engineering': []}\n",
            "{'Statistics': [], 'Machine Learning': [], 'Deep Learning': [], 'R Language': [], 'Python Language': [], 'NLP': [], 'Data Engineering': []}\n",
            "{'Statistics': [], 'Machine Learning': [], 'Deep Learning': [], 'R Language': [], 'Python Language': [], 'NLP': [], 'Data Engineering': []}\n",
            "{'Statistics': [], 'Machine Learning': [], 'Deep Learning': [], 'R Language': [], 'Python Language': [], 'NLP': [], 'Data Engineering': []}\n",
            "{'Statistics': [], 'Machine Learning': [], 'Deep Learning': [], 'R Language': [], 'Python Language': [], 'NLP': [], 'Data Engineering': [SQL]}\n",
            "{'Statistics': [], 'Machine Learning': [], 'Deep Learning': [], 'R Language': [], 'Python Language': [], 'NLP': [], 'Data Engineering': []}\n",
            "{'Statistics': [], 'Machine Learning': [], 'Deep Learning': [], 'R Language': [], 'Python Language': [], 'NLP': [], 'Data Engineering': []}\n",
            "{'Statistics': [], 'Machine Learning': [], 'Deep Learning': [], 'R Language': [], 'Python Language': [], 'NLP': [], 'Data Engineering': [SQL, Sql, SQL, SQL, SQL, SQL, Hive, SQL, SQL, SQL, SQL, SQL, SQL, SQL, SQL, SQL, SQL]}\n",
            "{'Statistics': [], 'Machine Learning': [], 'Deep Learning': [], 'R Language': [], 'Python Language': [], 'NLP': [], 'Data Engineering': []}\n",
            "{'Statistics': [], 'Machine Learning': [], 'Deep Learning': [], 'R Language': [], 'Python Language': [], 'NLP': [], 'Data Engineering': []}\n",
            "{'Statistics': [], 'Machine Learning': [], 'Deep Learning': [], 'R Language': [], 'Python Language': [], 'NLP': [], 'Data Engineering': []}\n",
            "{'Statistics': [], 'Machine Learning': [], 'Deep Learning': [], 'R Language': [], 'Python Language': [], 'NLP': [], 'Data Engineering': []}\n",
            "{'Statistics': [], 'Machine Learning': [], 'Deep Learning': [], 'R Language': [], 'Python Language': [], 'NLP': [], 'Data Engineering': []}\n",
            "{'Statistics': [], 'Machine Learning': [], 'Deep Learning': [], 'R Language': [], 'Python Language': [], 'NLP': [], 'Data Engineering': []}\n",
            "{'Statistics': [], 'Machine Learning': [], 'Deep Learning': [], 'R Language': [], 'Python Language': [], 'NLP': [], 'Data Engineering': []}\n",
            "{'Statistics': [], 'Machine Learning': [], 'Deep Learning': [], 'R Language': [], 'Python Language': [], 'NLP': [], 'Data Engineering': []}\n",
            "{'Statistics': [], 'Machine Learning': [], 'Deep Learning': [], 'R Language': [], 'Python Language': [], 'NLP': [], 'Data Engineering': []}\n",
            "{'Statistics': [], 'Machine Learning': [], 'Deep Learning': [], 'R Language': [], 'Python Language': [], 'NLP': [], 'Data Engineering': [SQL, SQL, SQL, SQL, SQL, Sql, SQL]}\n",
            "{'Statistics': [], 'Machine Learning': [], 'Deep Learning': [], 'R Language': [], 'Python Language': [], 'NLP': [], 'Data Engineering': []}\n",
            "{'Statistics': [], 'Machine Learning': [], 'Deep Learning': [], 'R Language': [], 'Python Language': [], 'NLP': [], 'Data Engineering': [SQL]}\n",
            "{'Statistics': [], 'Machine Learning': [], 'Deep Learning': [], 'R Language': [], 'Python Language': [], 'NLP': [], 'Data Engineering': []}\n",
            "{'Statistics': [], 'Machine Learning': [], 'Deep Learning': [], 'R Language': [], 'Python Language': [], 'NLP': [], 'Data Engineering': []}\n",
            "{'Statistics': [], 'Machine Learning': [], 'Deep Learning': [], 'R Language': [], 'Python Language': [], 'NLP': [], 'Data Engineering': []}\n",
            "{'Statistics': [], 'Machine Learning': [], 'Deep Learning': [], 'R Language': [], 'Python Language': [], 'NLP': [], 'Data Engineering': [SQL, sql, SQL, SQL, Sql, SQL, SQL, Sql, sql]}\n",
            "{'Statistics': [], 'Machine Learning': [], 'Deep Learning': [], 'R Language': [], 'Python Language': [], 'NLP': [], 'Data Engineering': []}\n",
            "{'Statistics': [], 'Machine Learning': [], 'Deep Learning': [], 'R Language': [], 'Python Language': [], 'NLP': [], 'Data Engineering': []}\n",
            "{'Statistics': [], 'Machine Learning': [], 'Deep Learning': [], 'R Language': [], 'Python Language': [], 'NLP': [], 'Data Engineering': []}\n",
            "{'Statistics': [], 'Machine Learning': [], 'Deep Learning': [], 'R Language': [], 'Python Language': [], 'NLP': [], 'Data Engineering': []}\n",
            "{'Statistics': [], 'Machine Learning': [], 'Deep Learning': [], 'R Language': [], 'Python Language': [], 'NLP': [], 'Data Engineering': []}\n",
            "{'Statistics': [], 'Machine Learning': [], 'Deep Learning': [], 'R Language': [], 'Python Language': [], 'NLP': [], 'Data Engineering': []}\n",
            "{'Statistics': [], 'Machine Learning': [], 'Deep Learning': [], 'R Language': [], 'Python Language': [], 'NLP': [], 'Data Engineering': [SQL, SQL, SQL, SQL, SQL, SQL]}\n",
            "{'Statistics': [], 'Machine Learning': [], 'Deep Learning': [], 'R Language': [], 'Python Language': [], 'NLP': [], 'Data Engineering': []}\n",
            "{'Statistics': [], 'Machine Learning': [], 'Deep Learning': [], 'R Language': [], 'Python Language': [], 'NLP': [], 'Data Engineering': []}\n",
            "{'Statistics': [], 'Machine Learning': [], 'Deep Learning': [], 'R Language': [], 'Python Language': [], 'NLP': [], 'Data Engineering': [SQL, SQL, SQL, SQL]}\n",
            "{'Statistics': [], 'Machine Learning': [], 'Deep Learning': [], 'R Language': [], 'Python Language': [], 'NLP': [], 'Data Engineering': []}\n",
            "{'Statistics': [], 'Machine Learning': [], 'Deep Learning': [], 'R Language': [], 'Python Language': [], 'NLP': [], 'Data Engineering': []}\n",
            "{'Statistics': [], 'Machine Learning': [], 'Deep Learning': [], 'R Language': [], 'Python Language': [], 'NLP': [], 'Data Engineering': []}\n",
            "{'Statistics': [], 'Machine Learning': [], 'Deep Learning': [], 'R Language': [], 'Python Language': [], 'NLP': [], 'Data Engineering': [SQL, SQL, SQL]}\n",
            "{'Statistics': [], 'Machine Learning': [], 'Deep Learning': [], 'R Language': [], 'Python Language': [], 'NLP': [], 'Data Engineering': []}\n",
            "{'Statistics': [], 'Machine Learning': [], 'Deep Learning': [], 'R Language': [], 'Python Language': [], 'NLP': [], 'Data Engineering': []}\n",
            "{'Statistics': [], 'Machine Learning': [], 'Deep Learning': [Tensorflow, Tensorflow], 'R Language': [], 'Python Language': [python, Python, Python, Django, Flask, Python, Django, Flask], 'NLP': [Word2vec], 'Data Engineering': [SQL]}\n",
            "{'Statistics': [], 'Machine Learning': [], 'Deep Learning': [], 'R Language': [], 'Python Language': [], 'NLP': [], 'Data Engineering': []}\n",
            "{'Statistics': [], 'Machine Learning': [], 'Deep Learning': [], 'R Language': [], 'Python Language': [], 'NLP': [], 'Data Engineering': []}\n",
            "{'Statistics': [], 'Machine Learning': [], 'Deep Learning': [], 'R Language': [], 'Python Language': [], 'NLP': [], 'Data Engineering': []}\n",
            "{'Statistics': [], 'Machine Learning': [], 'Deep Learning': [], 'R Language': [], 'Python Language': [], 'NLP': [], 'Data Engineering': [SQL, SQL]}\n",
            "{'Statistics': [], 'Machine Learning': [], 'Deep Learning': [], 'R Language': [], 'Python Language': [], 'NLP': [], 'Data Engineering': []}\n",
            "{'Statistics': [], 'Machine Learning': [], 'Deep Learning': [], 'R Language': [], 'Python Language': [], 'NLP': [], 'Data Engineering': []}\n",
            "{'Statistics': [], 'Machine Learning': [], 'Deep Learning': [], 'R Language': [], 'Python Language': [], 'NLP': [], 'Data Engineering': [SQL, SQL, SQL, SQL]}\n",
            "{'Statistics': [], 'Machine Learning': [], 'Deep Learning': [], 'R Language': [], 'Python Language': [], 'NLP': [], 'Data Engineering': [SQL, SQL]}\n",
            "{'Statistics': [], 'Machine Learning': [], 'Deep Learning': [], 'R Language': [], 'Python Language': [], 'NLP': [], 'Data Engineering': []}\n",
            "{'Statistics': [], 'Machine Learning': [], 'Deep Learning': [], 'R Language': [], 'Python Language': [], 'NLP': [], 'Data Engineering': []}\n",
            "{'Statistics': [], 'Machine Learning': [], 'Deep Learning': [], 'R Language': [], 'Python Language': [Python], 'NLP': [], 'Data Engineering': [AWS, EC2, S3, Docker, SQL, AWS, EC2, S3]}\n",
            "{'Statistics': [], 'Machine Learning': [], 'Deep Learning': [], 'R Language': [], 'Python Language': [], 'NLP': [], 'Data Engineering': []}\n",
            "{'Statistics': [], 'Machine Learning': [], 'Deep Learning': [], 'R Language': [], 'Python Language': [], 'NLP': [], 'Data Engineering': []}\n",
            "{'Statistics': [], 'Machine Learning': [], 'Deep Learning': [], 'R Language': [], 'Python Language': [], 'NLP': [], 'Data Engineering': []}\n",
            "{'Statistics': [], 'Machine Learning': [], 'Deep Learning': [], 'R Language': [], 'Python Language': [], 'NLP': [], 'Data Engineering': []}\n",
            "{'Statistics': [], 'Machine Learning': [], 'Deep Learning': [], 'R Language': [], 'Python Language': [], 'NLP': [], 'Data Engineering': []}\n",
            "{'Statistics': [], 'Machine Learning': [], 'Deep Learning': [], 'R Language': [], 'Python Language': [], 'NLP': [], 'Data Engineering': []}\n",
            "{'Statistics': [], 'Machine Learning': [], 'Deep Learning': [], 'R Language': [], 'Python Language': [], 'NLP': [], 'Data Engineering': []}\n",
            "{'Statistics': [], 'Machine Learning': [], 'Deep Learning': [], 'R Language': [], 'Python Language': [], 'NLP': [], 'Data Engineering': [SQL, SQL, SQL]}\n",
            "{'Statistics': [], 'Machine Learning': [], 'Deep Learning': [], 'R Language': [], 'Python Language': [], 'NLP': [], 'Data Engineering': []}\n",
            "{'Statistics': [], 'Machine Learning': [], 'Deep Learning': [], 'R Language': [], 'Python Language': [], 'NLP': [], 'Data Engineering': [SQL, SQL, SQL]}\n",
            "{'Statistics': [], 'Machine Learning': [], 'Deep Learning': [], 'R Language': [], 'Python Language': [], 'NLP': [], 'Data Engineering': []}\n",
            "{'Statistics': [], 'Machine Learning': [], 'Deep Learning': [], 'R Language': [], 'Python Language': [Python], 'NLP': [], 'Data Engineering': [Sql, Hadoop, SQL, SQL, Hadoop]}\n",
            "{'Statistics': [], 'Machine Learning': [], 'Deep Learning': [], 'R Language': [], 'Python Language': [], 'NLP': [], 'Data Engineering': [SQL, SQL, Hadoop, hive, Scala, SQL, SQL, SQL]}\n",
            "{'Statistics': [], 'Machine Learning': [], 'Deep Learning': [], 'R Language': [], 'Python Language': [], 'NLP': [], 'Data Engineering': []}\n",
            "{'Statistics': [], 'Machine Learning': [], 'Deep Learning': [], 'R Language': [], 'Python Language': [], 'NLP': [], 'Data Engineering': [SQL, SQL]}\n",
            "{'Statistics': [], 'Machine Learning': [], 'Deep Learning': [], 'R Language': [], 'Python Language': [], 'NLP': [], 'Data Engineering': []}\n",
            "{'Statistics': [], 'Machine Learning': [], 'Deep Learning': [], 'R Language': [], 'Python Language': [], 'NLP': [], 'Data Engineering': []}\n",
            "{'Statistics': [forecasting], 'Machine Learning': [], 'Deep Learning': [], 'R Language': [], 'Python Language': [Python], 'NLP': [], 'Data Engineering': [SQL, SQL]}\n",
            "{'Statistics': [], 'Machine Learning': [], 'Deep Learning': [], 'R Language': [], 'Python Language': [], 'NLP': [], 'Data Engineering': []}\n",
            "{'Statistics': [], 'Machine Learning': [], 'Deep Learning': [], 'R Language': [], 'Python Language': [], 'NLP': [], 'Data Engineering': []}\n",
            "{'Statistics': [], 'Machine Learning': [], 'Deep Learning': [], 'R Language': [], 'Python Language': [], 'NLP': [], 'Data Engineering': []}\n",
            "{'Statistics': [], 'Machine Learning': [], 'Deep Learning': [], 'R Language': [], 'Python Language': [], 'NLP': [], 'Data Engineering': []}\n",
            "{'Statistics': [], 'Machine Learning': [], 'Deep Learning': [], 'R Language': [], 'Python Language': [python, Django, python, Django, Python, Django, Python], 'NLP': [], 'Data Engineering': [SQL, SQL, Docker]}\n",
            "{'Statistics': [], 'Machine Learning': [], 'Deep Learning': [], 'R Language': [], 'Python Language': [], 'NLP': [], 'Data Engineering': []}\n",
            "{'Statistics': [], 'Machine Learning': [], 'Deep Learning': [], 'R Language': [], 'Python Language': [Pandas, python], 'NLP': [], 'Data Engineering': []}\n",
            "{'Statistics': [], 'Machine Learning': [], 'Deep Learning': [], 'R Language': [], 'Python Language': [], 'NLP': [], 'Data Engineering': [Sql, SQL, SQL, SQL, SQL, SQL]}\n",
            "{'Statistics': [], 'Machine Learning': [], 'Deep Learning': [], 'R Language': [], 'Python Language': [], 'NLP': [], 'Data Engineering': [SQL, SQL, SQL, SQL, SQL]}\n",
            "{'Statistics': [], 'Machine Learning': [], 'Deep Learning': [], 'R Language': [], 'Python Language': [], 'NLP': [], 'Data Engineering': [AWS]}\n",
            "{'Statistics': [], 'Machine Learning': [], 'Deep Learning': [], 'R Language': [], 'Python Language': [], 'NLP': [], 'Data Engineering': [SQL, SQL, SQL, SQL]}\n",
            "{'Statistics': [], 'Machine Learning': [], 'Deep Learning': [], 'R Language': [], 'Python Language': [], 'NLP': [], 'Data Engineering': [SQL]}\n",
            "{'Statistics': [], 'Machine Learning': [], 'Deep Learning': [], 'R Language': [], 'Python Language': [], 'NLP': [], 'Data Engineering': []}\n",
            "{'Statistics': [], 'Machine Learning': [], 'Deep Learning': [], 'R Language': [], 'Python Language': [], 'NLP': [], 'Data Engineering': [SQL, SQL, SQL, SQL, SQL]}\n",
            "{'Statistics': [], 'Machine Learning': [], 'Deep Learning': [], 'R Language': [], 'Python Language': [], 'NLP': [], 'Data Engineering': [SQL, Teradata, SQL, Teradata, SQL]}\n",
            "{'Statistics': [], 'Machine Learning': [], 'Deep Learning': [], 'R Language': [], 'Python Language': [], 'NLP': [], 'Data Engineering': []}\n",
            "{'Statistics': [], 'Machine Learning': [], 'Deep Learning': [], 'R Language': [], 'Python Language': [python, python], 'NLP': [], 'Data Engineering': [AWS, AWS, EC2, S3, AWS, AWS, AWS, AWS, AWS, AWS, SQL, Docker, Docker, Docker, Docker, Docker, Docker, AWS, AWS, EC2, S3, AWS, AWS, AWS, AWS, AWS, AWS, SQL, Sql, AWS]}\n",
            "{'Statistics': [], 'Machine Learning': [], 'Deep Learning': [], 'R Language': [], 'Python Language': [], 'NLP': [], 'Data Engineering': []}\n",
            "{'Statistics': [], 'Machine Learning': [], 'Deep Learning': [], 'R Language': [], 'Python Language': [], 'NLP': [], 'Data Engineering': []}\n",
            "{'Statistics': [forecasting, Probability], 'Machine Learning': [], 'Deep Learning': [], 'R Language': [], 'Python Language': [], 'NLP': [], 'Data Engineering': []}\n",
            "{'Statistics': [], 'Machine Learning': [], 'Deep Learning': [], 'R Language': [], 'Python Language': [], 'NLP': [], 'Data Engineering': [SQL]}\n",
            "{'Statistics': [], 'Machine Learning': [], 'Deep Learning': [], 'R Language': [], 'Python Language': [], 'NLP': [], 'Data Engineering': []}\n",
            "{'Statistics': [], 'Machine Learning': [], 'Deep Learning': [], 'R Language': [], 'Python Language': [], 'NLP': [], 'Data Engineering': []}\n",
            "{'Statistics': [], 'Machine Learning': [], 'Deep Learning': [], 'R Language': [], 'Python Language': [], 'NLP': [], 'Data Engineering': []}\n",
            "{'Statistics': [], 'Machine Learning': [], 'Deep Learning': [], 'R Language': [], 'Python Language': [], 'NLP': [], 'Data Engineering': [SQL]}\n",
            "{'Statistics': [], 'Machine Learning': [], 'Deep Learning': [], 'R Language': [], 'Python Language': [], 'NLP': [], 'Data Engineering': []}\n",
            "{'Statistics': [], 'Machine Learning': [], 'Deep Learning': [], 'R Language': [], 'Python Language': [], 'NLP': [], 'Data Engineering': []}\n",
            "{'Statistics': [], 'Machine Learning': [], 'Deep Learning': [], 'R Language': [], 'Python Language': [], 'NLP': [], 'Data Engineering': []}\n",
            "{'Statistics': [], 'Machine Learning': [], 'Deep Learning': [], 'R Language': [], 'Python Language': [], 'NLP': [], 'Data Engineering': [SQL, SQL, SQL, SQL, SQL, SQL, SQL, SQL, SQL, SQL]}\n",
            "{'Statistics': [], 'Machine Learning': [], 'Deep Learning': [], 'R Language': [], 'Python Language': [], 'NLP': [], 'Data Engineering': [sql]}\n",
            "{'Statistics': [], 'Machine Learning': [], 'Deep Learning': [], 'R Language': [], 'Python Language': [], 'NLP': [], 'Data Engineering': [SQL, SQL]}\n",
            "{'Statistics': [], 'Machine Learning': [], 'Deep Learning': [], 'R Language': [], 'Python Language': [], 'NLP': [], 'Data Engineering': [SQL, SQL, SQL, SQL]}\n",
            "{'Statistics': [], 'Machine Learning': [], 'Deep Learning': [], 'R Language': [], 'Python Language': [], 'NLP': [], 'Data Engineering': []}\n",
            "{'Statistics': [], 'Machine Learning': [], 'Deep Learning': [], 'R Language': [], 'Python Language': [], 'NLP': [], 'Data Engineering': []}\n",
            "{'Statistics': [], 'Machine Learning': [], 'Deep Learning': [], 'R Language': [], 'Python Language': [], 'NLP': [], 'Data Engineering': [Sql, Sql, SQL, SQL]}\n",
            "{'Statistics': [], 'Machine Learning': [], 'Deep Learning': [], 'R Language': [], 'Python Language': [], 'NLP': [], 'Data Engineering': []}\n",
            "{'Statistics': [], 'Machine Learning': [], 'Deep Learning': [], 'R Language': [], 'Python Language': [], 'NLP': [], 'Data Engineering': []}\n",
            "{'Statistics': [], 'Machine Learning': [], 'Deep Learning': [], 'R Language': [], 'Python Language': [], 'NLP': [], 'Data Engineering': [SQL, SQL, SQL, SQL, SQL, SQL]}\n",
            "{'Statistics': [], 'Machine Learning': [], 'Deep Learning': [], 'R Language': [], 'Python Language': [], 'NLP': [], 'Data Engineering': []}\n",
            "{'Statistics': [], 'Machine Learning': [], 'Deep Learning': [], 'R Language': [], 'Python Language': [], 'NLP': [], 'Data Engineering': [SQL]}\n",
            "{'Statistics': [], 'Machine Learning': [], 'Deep Learning': [], 'R Language': [], 'Python Language': [], 'NLP': [], 'Data Engineering': [SQL]}\n",
            "{'Statistics': [], 'Machine Learning': [], 'Deep Learning': [], 'R Language': [], 'Python Language': [], 'NLP': [], 'Data Engineering': []}\n",
            "{'Statistics': [], 'Machine Learning': [], 'Deep Learning': [], 'R Language': [], 'Python Language': [], 'NLP': [], 'Data Engineering': []}\n"
          ],
          "name": "stdout"
        }
      ]
    },
    {
      "cell_type": "code",
      "metadata": {
        "id": "_keqqJ7zQAlR",
        "colab_type": "code",
        "outputId": "6d611a82-416b-4596-96f8-568f3da95bd4",
        "colab": {
          "base_uri": "https://localhost:8080/",
          "height": 97
        }
      },
      "source": [
        "skills_list = [candidate.get_skills() for candidate in profiles]\n",
        "skills_list\n",
        "resumes_df[\"Skills\"] = skills_list\n",
        "resumes_df.sample()"
      ],
      "execution_count": 32,
      "outputs": [
        {
          "output_type": "execute_result",
          "data": {
            "text/html": [
              "<div>\n",
              "<style scoped>\n",
              "    .dataframe tbody tr th:only-of-type {\n",
              "        vertical-align: middle;\n",
              "    }\n",
              "\n",
              "    .dataframe tbody tr th {\n",
              "        vertical-align: top;\n",
              "    }\n",
              "\n",
              "    .dataframe thead th {\n",
              "        text-align: right;\n",
              "    }\n",
              "</style>\n",
              "<table border=\"1\" class=\"dataframe\">\n",
              "  <thead>\n",
              "    <tr style=\"text-align: right;\">\n",
              "      <th></th>\n",
              "      <th>Name</th>\n",
              "      <th>Resume</th>\n",
              "      <th>Skills</th>\n",
              "    </tr>\n",
              "  </thead>\n",
              "  <tbody>\n",
              "    <tr>\n",
              "      <th>192</th>\n",
              "      <td>Akila Mohideen</td>\n",
              "      <td>Akila Mohideen\\nSystem Engineer, Infosys Limited, India - INFOSYS LIMITED COMPANY\\n\\nBangalore, Karnataka - Email me on Indeed: indeed.com/r/Akila-Mohideen/cfe2854527fb6a12\\n\\nWilling to relocate\\...</td>\n",
              "      <td>{'Statistics': [], 'Machine Learning': [], 'Deep Learning': [], 'R Language': [], 'Python Language': [], 'NLP': [], 'Data Engineering': []}</td>\n",
              "    </tr>\n",
              "  </tbody>\n",
              "</table>\n",
              "</div>"
            ],
            "text/plain": [
              "               Name  ...                                                                                                                                       Skills\n",
              "192  Akila Mohideen  ...  {'Statistics': [], 'Machine Learning': [], 'Deep Learning': [], 'R Language': [], 'Python Language': [], 'NLP': [], 'Data Engineering': []}\n",
              "\n",
              "[1 rows x 3 columns]"
            ]
          },
          "metadata": {
            "tags": []
          },
          "execution_count": 32
        }
      ]
    },
    {
      "cell_type": "markdown",
      "metadata": {
        "id": "84iz72GCqnIO",
        "colab_type": "text"
      },
      "source": [
        "The system accurately extract all the keywords from the resumes and constructs a candidates profile based on the extracted terms.\n",
        "To better visualize a candidates profile, we plot thier statistics, based on the number of matching words for every category. We also update the dataframe with every candidates information regarding all categories"
      ]
    },
    {
      "cell_type": "code",
      "metadata": {
        "id": "dpEAL1XUc-xn",
        "colab_type": "code",
        "outputId": "45395766-244f-407f-8843-caa4aeddf973",
        "colab": {
          "base_uri": "https://localhost:8080/",
          "height": 570
        }
      },
      "source": [
        "def plot_candidates_statistic(sample):\n",
        "    score = [len(sample[x]) for x  in sample.keys()]\n",
        "    categories_list = [x for x in sample.keys()]\n",
        "    \n",
        "    def func(pct, allvals):   \n",
        "      absolute = int(pct/100.*np.sum(allvals))\n",
        "      return \"{:.1f}%\".format(pct, absolute)\n",
        "\n",
        "\n",
        "    fig, ax = plt.subplots(figsize=(6, 3), subplot_kw=dict(aspect=\"equal\"))\n",
        "    wedges, texts, autotexts = ax.pie(score, autopct=lambda pct: func(pct, score),\n",
        "                                  textprops=dict(color=\"w\"), radius=4)\n",
        "\n",
        "    ax.legend(wedges, categories_list,\n",
        "          title=\"Categories\",\n",
        "          loc=\"center left\",\n",
        "          bbox_to_anchor=(1, 0, 0.5, 1))\n",
        "\n",
        "    plt.setp(autotexts, size=8, weight=\"bold\")\n",
        "\n",
        "    ax.set_title(\"Skills statistic\")\n",
        "    \n",
        "    plt.show()\n",
        "\n",
        "sample = get_skills(str(resumes_df.sample().iloc[:,][\"Skills\"]))\n",
        "print(sample)\n",
        "plot_candidates_statistic(sample)\n"
      ],
      "execution_count": 54,
      "outputs": [
        {
          "output_type": "stream",
          "text": [
            "{'Statistics': [], 'Machine Learning': [], 'Deep Learning': [], 'R Language': [], 'Python Language': [Python], 'NLP': [NLP], 'Data Engineering': []}\n"
          ],
          "name": "stdout"
        },
        {
          "output_type": "display_data",
          "data": {
            "image/png": "[encoded data removed]",
            "text/plain": [
              "<Figure size 432x216 with 1 Axes>"
            ]
          },
          "metadata": {
            "tags": []
          }
        }
      ]
    },
    {
      "cell_type": "code",
      "metadata": {
        "id": "rwcJS2mbTxyI",
        "colab_type": "code",
        "colab": {}
      },
      "source": [
        "for category in categories:\n",
        "  skill = []\n",
        "  for profile in profiles:\n",
        "    skill.append(len(profile.get_skills()[category]))\n",
        "  resumes_df[category] = skill"
      ],
      "execution_count": 0,
      "outputs": []
    },
    {
      "cell_type": "code",
      "metadata": {
        "id": "af16eY5EUKUB",
        "colab_type": "code",
        "outputId": "dd210185-f9f9-428a-b21c-753098f832b3",
        "colab": {
          "base_uri": "https://localhost:8080/",
          "height": 459
        }
      },
      "source": [
        "resumes_df.sample(5)"
      ],
      "execution_count": 44,
      "outputs": [
        {
          "output_type": "execute_result",
          "data": {
            "text/html": [
              "<div>\n",
              "<style scoped>\n",
              "    .dataframe tbody tr th:only-of-type {\n",
              "        vertical-align: middle;\n",
              "    }\n",
              "\n",
              "    .dataframe tbody tr th {\n",
              "        vertical-align: top;\n",
              "    }\n",
              "\n",
              "    .dataframe thead th {\n",
              "        text-align: right;\n",
              "    }\n",
              "</style>\n",
              "<table border=\"1\" class=\"dataframe\">\n",
              "  <thead>\n",
              "    <tr style=\"text-align: right;\">\n",
              "      <th></th>\n",
              "      <th>Name</th>\n",
              "      <th>Resume</th>\n",
              "      <th>Skills</th>\n",
              "      <th>Statistics</th>\n",
              "      <th>Machine Learning</th>\n",
              "      <th>Deep Learning</th>\n",
              "      <th>R Language</th>\n",
              "      <th>Python Language</th>\n",
              "      <th>NLP</th>\n",
              "      <th>Data Engineering</th>\n",
              "    </tr>\n",
              "  </thead>\n",
              "  <tbody>\n",
              "    <tr>\n",
              "      <th>50</th>\n",
              "      <td>Nikhileshkumar Ikhar</td>\n",
              "      <td>Nikhileshkumar Ikhar\\nProduct development engineer with 7+ years of experience with\\nM.Tech. in IT. Successfully developed &amp; deployed, platform &amp; behaviour\\ndesign strategies in well-established c...</td>\n",
              "      <td>{'Statistics': [], 'Machine Learning': [], 'Deep Learning': [], 'R Language': [], 'Python Language': [(Python), (Django), (Python), (Django), (Django), (Python), (Python), (Django)], 'NLP': [], 'D...</td>\n",
              "      <td>0</td>\n",
              "      <td>0</td>\n",
              "      <td>0</td>\n",
              "      <td>0</td>\n",
              "      <td>8</td>\n",
              "      <td>0</td>\n",
              "      <td>1</td>\n",
              "    </tr>\n",
              "    <tr>\n",
              "      <th>31</th>\n",
              "      <td>Kasturika Borah</td>\n",
              "      <td>Kasturika Borah\\nTeam Member - Cisco\\n\\nBengaluru, Karnataka - Email me on Indeed: indeed.com/r/Kasturika-\\nBorah/9e71468914b38ee8\\n\\n• Software Engineer with overall 3+ years of experience in Net...</td>\n",
              "      <td>{'Statistics': [], 'Machine Learning': [], 'Deep Learning': [], 'R Language': [], 'Python Language': [(Python), (Python), (Python), (Python)], 'NLP': [], 'Data Engineering': [(SQL), (SQL), (SQL), ...</td>\n",
              "      <td>0</td>\n",
              "      <td>0</td>\n",
              "      <td>0</td>\n",
              "      <td>0</td>\n",
              "      <td>4</td>\n",
              "      <td>0</td>\n",
              "      <td>6</td>\n",
              "    </tr>\n",
              "    <tr>\n",
              "      <th>96</th>\n",
              "      <td>Vamsi krishna</td>\n",
              "      <td>Vamsi krishna\\nhyderbad, Telangana - Email me on Indeed: indeed.com/r/Vamsi-krishna/15906b55159d4088\\n\\nWilling to relocate to: hyderbad, Telangana\\n\\nWORK EXPERIENCE\\n\\nSoftware developer\\n\\nMicr...</td>\n",
              "      <td>{'Statistics': [], 'Machine Learning': [], 'Deep Learning': [], 'R Language': [], 'Python Language': [], 'NLP': [], 'Data Engineering': []}</td>\n",
              "      <td>0</td>\n",
              "      <td>0</td>\n",
              "      <td>0</td>\n",
              "      <td>0</td>\n",
              "      <td>0</td>\n",
              "      <td>0</td>\n",
              "      <td>0</td>\n",
              "    </tr>\n",
              "    <tr>\n",
              "      <th>138</th>\n",
              "      <td>Soumya Balan</td>\n",
              "      <td>Soumya Balan\\nIT SUPPORT\\n\\nSulthan Bathery, Kerala, Kerala - Email me on Indeed: indeed.com/r/Soumya-\\nBalan/97ead9542c575355\\n\\n➢ To work in a progressive organization where I can enhance my ski...</td>\n",
              "      <td>{'Statistics': [], 'Machine Learning': [], 'Deep Learning': [], 'R Language': [], 'Python Language': [], 'NLP': [], 'Data Engineering': []}</td>\n",
              "      <td>0</td>\n",
              "      <td>0</td>\n",
              "      <td>0</td>\n",
              "      <td>0</td>\n",
              "      <td>0</td>\n",
              "      <td>0</td>\n",
              "      <td>0</td>\n",
              "    </tr>\n",
              "    <tr>\n",
              "      <th>151</th>\n",
              "      <td>Saurabh Sandhikar</td>\n",
              "      <td>Saurabh Sandhikar\\nSAURABH SANDHIKAR\\n\\nHyderabad, Telangana - Email me on Indeed: indeed.com/r/Saurabh-Sandhikar/\\ne490c0d49e5aa698\\n\\nWilling to relocate to: hyderbad, Telangana\\n\\nWORK EXPERIEN...</td>\n",
              "      <td>{'Statistics': [], 'Machine Learning': [], 'Deep Learning': [], 'R Language': [], 'Python Language': [], 'NLP': [], 'Data Engineering': [(SQL), (SQL)]}</td>\n",
              "      <td>0</td>\n",
              "      <td>0</td>\n",
              "      <td>0</td>\n",
              "      <td>0</td>\n",
              "      <td>0</td>\n",
              "      <td>0</td>\n",
              "      <td>2</td>\n",
              "    </tr>\n",
              "  </tbody>\n",
              "</table>\n",
              "</div>"
            ],
            "text/plain": [
              "                     Name  ... Data Engineering\n",
              "50   Nikhileshkumar Ikhar  ...                1\n",
              "31        Kasturika Borah  ...                6\n",
              "96          Vamsi krishna  ...                0\n",
              "138          Soumya Balan  ...                0\n",
              "151     Saurabh Sandhikar  ...                2\n",
              "\n",
              "[5 rows x 10 columns]"
            ]
          },
          "metadata": {
            "tags": []
          },
          "execution_count": 44
        }
      ]
    },
    {
      "cell_type": "markdown",
      "metadata": {
        "id": "kgAs4m97wCym",
        "colab_type": "text"
      },
      "source": [
        "#4.Conclusions and future work\n",
        "\n",
        "Ase we presented in this notebook, we succesfully extracted the candidates abilities and we gave two options for extracting their names. For future work we propose the study of extracting other personal information such as phone number, address, zipcode by using diffrent techniques such as regular expresions, we will also explore the posibility of divide the resume in blocks using restricted boltzmann machines and training separate support vector machines classifiers for every block to accurately label the data using both the text and the layout information. We also consider the posibility of statistical models and recurrent neural network."
      ]
    },
    {
      "cell_type": "markdown",
      "metadata": {
        "id": "u5Oz7ZjF0LyP",
        "colab_type": "text"
      },
      "source": [
        "#References\n",
        "\n",
        "[1] Jinesh D. *Instant resume Evaluation Engine*, 2017\n",
        "\n",
        "[2] Jacob D. ,Ming-Wei C. ,Kenton L. Kristina T. *BERT: Pre-training of Deep Bidirectional Transformers for Language Understanding*, 2019\n",
        "\n",
        "[3]Vedant B. Prateek Rawat A. Kumar R. Ratn S. *End-to-End Resume Parsing and Finding Candidates for a Job Description using BERT*, 2019\n",
        "\n",
        "[4] Jiaze C, Liangcai G, Zhi T *Information Extraction from Resume Documents in PDFFormat*, 2016\n",
        "\n",
        "[5] Hui Han C. Lee Giles Eren Manavoglu Hongyuan, Automatic Document Metadata *Extraction using Support Vector Machines*, 2003\n",
        "\n",
        "[6] Duygu Çelik, Askýn Karakas, Gülsen Bal, Cem Gültunca, Atilla Elçi, Basak Buluz, Murat Can Alevli *Towards an Information Extraction System Based on Ontology to Match Resumes and Jobs*\n"
      ]
    }
  ]
}